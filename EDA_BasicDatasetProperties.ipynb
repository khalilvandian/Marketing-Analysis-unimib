{
 "cells": [
  {
   "cell_type": "code",
   "execution_count": 28,
   "metadata": {},
   "outputs": [],
   "source": [
    "import pandas as pd\n",
    "import matplotlib.pyplot as plt"
   ]
  },
  {
   "cell_type": "markdown",
   "metadata": {},
   "source": [
    "# Load data"
   ]
  },
  {
   "cell_type": "code",
   "execution_count": 2,
   "metadata": {},
   "outputs": [],
   "source": [
    "# Specify the path to the cutomer_data folder in the parent directory\n",
    "working_directory = \"B:/Projects/Marketing Analytics Project/Marketing-Analysis-unimib/\"\n",
    "data_folder_path = \"../Data/\""
   ]
  },
  {
   "cell_type": "code",
   "execution_count": 3,
   "metadata": {},
   "outputs": [],
   "source": [
    "# Read the cutomer_cutomer_cutomer_data file using pandas\n",
    "customer_accounts_data = pd.read_csv(data_folder_path + \"tbl_customer_accounts.csv\")\n",
    "adresses_data = pd.read_csv(data_folder_path + \"tbl_addresses.csv\")\n",
    "customer_data = pd.read_csv(data_folder_path + \"tbl_customers.csv\")\n",
    "orders_data = pd.read_csv(data_folder_path + \"tbl_orders.csv\")\n",
    "products_data = pd.read_csv(data_folder_path + \"tbl_products.csv\")\n",
    "customer_reviews_data = pd.read_csv(data_folder_path + \"tbl_customer_reviews.csv\")\n",
    "labelled_reviews_data = pd.read_csv(data_folder_path + \"tbl_labelled_reviews.csv\")"
   ]
  },
  {
   "cell_type": "markdown",
   "metadata": {},
   "source": [
    "# Customers"
   ]
  },
  {
   "cell_type": "code",
   "execution_count": 4,
   "metadata": {},
   "outputs": [
    {
     "data": {
      "text/plain": [
       "(140946, 8)"
      ]
     },
     "execution_count": 4,
     "metadata": {},
     "output_type": "execute_result"
    }
   ],
   "source": [
    "customer_data.shape"
   ]
  },
  {
   "cell_type": "code",
   "execution_count": 5,
   "metadata": {},
   "outputs": [
    {
     "data": {
      "text/html": [
       "<div>\n",
       "<style scoped>\n",
       "    .dataframe tbody tr th:only-of-type {\n",
       "        vertical-align: middle;\n",
       "    }\n",
       "\n",
       "    .dataframe tbody tr th {\n",
       "        vertical-align: top;\n",
       "    }\n",
       "\n",
       "    .dataframe thead th {\n",
       "        text-align: right;\n",
       "    }\n",
       "</style>\n",
       "<table border=\"1\" class=\"dataframe\">\n",
       "  <thead>\n",
       "    <tr style=\"text-align: right;\">\n",
       "      <th></th>\n",
       "      <th>customer_id</th>\n",
       "      <th>address_id</th>\n",
       "      <th>birthdate</th>\n",
       "      <th>gender</th>\n",
       "      <th>job_type</th>\n",
       "      <th>email_provider</th>\n",
       "      <th>flag_phone_provided</th>\n",
       "      <th>flag_privacy</th>\n",
       "    </tr>\n",
       "  </thead>\n",
       "  <tbody>\n",
       "    <tr>\n",
       "      <th>0</th>\n",
       "      <td>891057</td>\n",
       "      <td>863914</td>\n",
       "      <td>2001-10-22</td>\n",
       "      <td>F</td>\n",
       "      <td>NaN</td>\n",
       "      <td>yahoo.it</td>\n",
       "      <td>1.0</td>\n",
       "      <td>True</td>\n",
       "    </tr>\n",
       "    <tr>\n",
       "      <th>1</th>\n",
       "      <td>655484</td>\n",
       "      <td>639856</td>\n",
       "      <td>2001-04-30</td>\n",
       "      <td>M</td>\n",
       "      <td>NaN</td>\n",
       "      <td>yahoo.it</td>\n",
       "      <td>1.0</td>\n",
       "      <td>False</td>\n",
       "    </tr>\n",
       "    <tr>\n",
       "      <th>2</th>\n",
       "      <td>514958</td>\n",
       "      <td>494806</td>\n",
       "      <td>2001-01-01</td>\n",
       "      <td>M</td>\n",
       "      <td>NaN</td>\n",
       "      <td>libero.it</td>\n",
       "      <td>1.0</td>\n",
       "      <td>True</td>\n",
       "    </tr>\n",
       "    <tr>\n",
       "      <th>3</th>\n",
       "      <td>398355</td>\n",
       "      <td>377261</td>\n",
       "      <td>2000-03-09</td>\n",
       "      <td>M</td>\n",
       "      <td>NaN</td>\n",
       "      <td>gmail.com</td>\n",
       "      <td>1.0</td>\n",
       "      <td>True</td>\n",
       "    </tr>\n",
       "    <tr>\n",
       "      <th>4</th>\n",
       "      <td>23808</td>\n",
       "      <td>20227</td>\n",
       "      <td>1999-11-21</td>\n",
       "      <td>F</td>\n",
       "      <td>NaN</td>\n",
       "      <td>virgilio.it</td>\n",
       "      <td>1.0</td>\n",
       "      <td>True</td>\n",
       "    </tr>\n",
       "  </tbody>\n",
       "</table>\n",
       "</div>"
      ],
      "text/plain": [
       "   customer_id  address_id   birthdate gender job_type email_provider  \\\n",
       "0       891057      863914  2001-10-22      F      NaN       yahoo.it   \n",
       "1       655484      639856  2001-04-30      M      NaN       yahoo.it   \n",
       "2       514958      494806  2001-01-01      M      NaN      libero.it   \n",
       "3       398355      377261  2000-03-09      M      NaN      gmail.com   \n",
       "4        23808       20227  1999-11-21      F      NaN    virgilio.it   \n",
       "\n",
       "   flag_phone_provided  flag_privacy  \n",
       "0                  1.0          True  \n",
       "1                  1.0         False  \n",
       "2                  1.0          True  \n",
       "3                  1.0          True  \n",
       "4                  1.0          True  "
      ]
     },
     "execution_count": 5,
     "metadata": {},
     "output_type": "execute_result"
    }
   ],
   "source": [
    "customer_data.head()"
   ]
  },
  {
   "cell_type": "code",
   "execution_count": 6,
   "metadata": {},
   "outputs": [
    {
     "data": {
      "text/html": [
       "<div>\n",
       "<style scoped>\n",
       "    .dataframe tbody tr th:only-of-type {\n",
       "        vertical-align: middle;\n",
       "    }\n",
       "\n",
       "    .dataframe tbody tr th {\n",
       "        vertical-align: top;\n",
       "    }\n",
       "\n",
       "    .dataframe thead th {\n",
       "        text-align: right;\n",
       "    }\n",
       "</style>\n",
       "<table border=\"1\" class=\"dataframe\">\n",
       "  <thead>\n",
       "    <tr style=\"text-align: right;\">\n",
       "      <th></th>\n",
       "      <th>customer_id</th>\n",
       "      <th>address_id</th>\n",
       "      <th>birthdate</th>\n",
       "      <th>gender</th>\n",
       "      <th>job_type</th>\n",
       "      <th>email_provider</th>\n",
       "      <th>flag_phone_provided</th>\n",
       "      <th>flag_privacy</th>\n",
       "    </tr>\n",
       "  </thead>\n",
       "  <tbody>\n",
       "    <tr>\n",
       "      <th>140941</th>\n",
       "      <td>449222</td>\n",
       "      <td>428121</td>\n",
       "      <td>1945-05-30</td>\n",
       "      <td>F</td>\n",
       "      <td>NaN</td>\n",
       "      <td>libero.it</td>\n",
       "      <td>1.0</td>\n",
       "      <td>True</td>\n",
       "    </tr>\n",
       "    <tr>\n",
       "      <th>140942</th>\n",
       "      <td>368113</td>\n",
       "      <td>346970</td>\n",
       "      <td>1943-11-18</td>\n",
       "      <td>F</td>\n",
       "      <td>NaN</td>\n",
       "      <td>yahoo.com</td>\n",
       "      <td>1.0</td>\n",
       "      <td>True</td>\n",
       "    </tr>\n",
       "    <tr>\n",
       "      <th>140943</th>\n",
       "      <td>424451</td>\n",
       "      <td>403292</td>\n",
       "      <td>1943-05-07</td>\n",
       "      <td>F</td>\n",
       "      <td>NaN</td>\n",
       "      <td>gmail.com</td>\n",
       "      <td>1.0</td>\n",
       "      <td>True</td>\n",
       "    </tr>\n",
       "    <tr>\n",
       "      <th>140944</th>\n",
       "      <td>808137</td>\n",
       "      <td>789737</td>\n",
       "      <td>1943-02-13</td>\n",
       "      <td>F</td>\n",
       "      <td>NaN</td>\n",
       "      <td>yahoo.it</td>\n",
       "      <td>1.0</td>\n",
       "      <td>True</td>\n",
       "    </tr>\n",
       "    <tr>\n",
       "      <th>140945</th>\n",
       "      <td>442860</td>\n",
       "      <td>421749</td>\n",
       "      <td>1940-05-18</td>\n",
       "      <td>F</td>\n",
       "      <td>NaN</td>\n",
       "      <td>gmail.com</td>\n",
       "      <td>1.0</td>\n",
       "      <td>True</td>\n",
       "    </tr>\n",
       "  </tbody>\n",
       "</table>\n",
       "</div>"
      ],
      "text/plain": [
       "        customer_id  address_id   birthdate gender job_type email_provider  \\\n",
       "140941       449222      428121  1945-05-30      F      NaN      libero.it   \n",
       "140942       368113      346970  1943-11-18      F      NaN      yahoo.com   \n",
       "140943       424451      403292  1943-05-07      F      NaN      gmail.com   \n",
       "140944       808137      789737  1943-02-13      F      NaN       yahoo.it   \n",
       "140945       442860      421749  1940-05-18      F      NaN      gmail.com   \n",
       "\n",
       "        flag_phone_provided  flag_privacy  \n",
       "140941                  1.0          True  \n",
       "140942                  1.0          True  \n",
       "140943                  1.0          True  \n",
       "140944                  1.0          True  \n",
       "140945                  1.0          True  "
      ]
     },
     "execution_count": 6,
     "metadata": {},
     "output_type": "execute_result"
    }
   ],
   "source": [
    "customer_data.tail()"
   ]
  },
  {
   "cell_type": "code",
   "execution_count": 45,
   "metadata": {},
   "outputs": [
    {
     "data": {
      "text/plain": [
       "email_provider\n",
       "gmail.com                       58494\n",
       "libero.it                       21668\n",
       "hotmail.it                      10988\n",
       "alice.it                         7098\n",
       "yahoo.it                         6300\n",
       "                                ...  \n",
       "personal_mail_provider_4441         1\n",
       "personal_mail_provider_12321        1\n",
       "personal_mail_provider_14426        1\n",
       "personal_mail_provider_20142        1\n",
       "personal_mail_provider_17261        1\n",
       "Name: count, Length: 8484, dtype: int64"
      ]
     },
     "execution_count": 45,
     "metadata": {},
     "output_type": "execute_result"
    }
   ],
   "source": [
    "customer_data['email_provider'].value_counts()"
   ]
  },
  {
   "cell_type": "code",
   "execution_count": 7,
   "metadata": {},
   "outputs": [
    {
     "name": "stdout",
     "output_type": "stream",
     "text": [
      "<class 'pandas.core.frame.DataFrame'>\n",
      "RangeIndex: 140946 entries, 0 to 140945\n",
      "Data columns (total 8 columns):\n",
      " #   Column               Non-Null Count   Dtype  \n",
      "---  ------               --------------   -----  \n",
      " 0   customer_id          140946 non-null  int64  \n",
      " 1   address_id           140946 non-null  int64  \n",
      " 2   birthdate            140946 non-null  object \n",
      " 3   gender               140946 non-null  object \n",
      " 4   job_type             4295 non-null    object \n",
      " 5   email_provider       139111 non-null  object \n",
      " 6   flag_phone_provided  129675 non-null  float64\n",
      " 7   flag_privacy         140946 non-null  bool   \n",
      "dtypes: bool(1), float64(1), int64(2), object(4)\n",
      "memory usage: 7.7+ MB\n"
     ]
    }
   ],
   "source": [
    "customer_data.info()"
   ]
  },
  {
   "cell_type": "markdown",
   "metadata": {},
   "source": [
    "## Customer ID - Address ID\n",
    "- Some Addresses have been used by up to 3 customers (They are supposedly a family/roommates/residents of the same appartement)\n",
    "- There is a Address Id used 2000 times and is a missing value in Addresses table. => Addresses are not missing in this table but must be checked with the other table to see if there are any truly missing ones.\n",
    "- 2155 customers with Address ids which have no address info in the addresses table"
   ]
  },
  {
   "cell_type": "code",
   "execution_count": 8,
   "metadata": {},
   "outputs": [
    {
     "data": {
      "text/plain": [
       "140946"
      ]
     },
     "execution_count": 8,
     "metadata": {},
     "output_type": "execute_result"
    }
   ],
   "source": [
    "customer_data['customer_id'].unique().shape[0]"
   ]
  },
  {
   "cell_type": "code",
   "execution_count": 9,
   "metadata": {},
   "outputs": [
    {
     "name": "stdout",
     "output_type": "stream",
     "text": [
      "Minimum: 23, Maximum: 934879\n"
     ]
    }
   ],
   "source": [
    "# Calculate minimum value of the 'customer_id' column\n",
    "min_value = customer_data['customer_id'].min()\n",
    "\n",
    "# Calculate maximum value of the 'customer_id' column\n",
    "max_value = customer_data['customer_id'].max()\n",
    "\n",
    "# Optionally, you can print these values\n",
    "print(f\"Minimum: {min_value}, Maximum: {max_value}\")"
   ]
  },
  {
   "cell_type": "markdown",
   "metadata": {},
   "source": [
    "There are addresses with multiple customers"
   ]
  },
  {
   "cell_type": "code",
   "execution_count": 10,
   "metadata": {},
   "outputs": [
    {
     "name": "stdout",
     "output_type": "stream",
     "text": [
      "The number of unique customer_id values is 140946\n",
      "The number of unique address_id values is 138648\n",
      "The number of unique customer rows is 140946\n"
     ]
    }
   ],
   "source": [
    "print(f\"The number of unique customer_id values is {customer_data['customer_id'].unique().shape[0]}\")\n",
    "\n",
    "print(f\"The number of unique address_id values is {customer_data['address_id'].unique().shape[0]}\")\n",
    "\n",
    "print(f\"The number of unique customer rows is {customer_data.drop_duplicates().shape[0]}\")"
   ]
  },
  {
   "cell_type": "markdown",
   "metadata": {},
   "source": [
    "ID 900091 has been repeated 2102 times which is an anomly"
   ]
  },
  {
   "cell_type": "code",
   "execution_count": 11,
   "metadata": {},
   "outputs": [
    {
     "data": {
      "text/plain": [
       "address_id\n",
       "900091    2102\n",
       "745497       3\n",
       "590725       2\n",
       "465404       2\n",
       "432307       2\n",
       "          ... \n",
       "316732       1\n",
       "316711       1\n",
       "316710       1\n",
       "316706       1\n",
       "443267       1\n",
       "Length: 138648, dtype: int64"
      ]
     },
     "execution_count": 11,
     "metadata": {},
     "output_type": "execute_result"
    }
   ],
   "source": [
    "customer_data.groupby('address_id').size().sort_values(ascending=False)"
   ]
  },
  {
   "cell_type": "code",
   "execution_count": 12,
   "metadata": {},
   "outputs": [
    {
     "data": {
      "text/html": [
       "<div>\n",
       "<style scoped>\n",
       "    .dataframe tbody tr th:only-of-type {\n",
       "        vertical-align: middle;\n",
       "    }\n",
       "\n",
       "    .dataframe tbody tr th {\n",
       "        vertical-align: top;\n",
       "    }\n",
       "\n",
       "    .dataframe thead th {\n",
       "        text-align: right;\n",
       "    }\n",
       "</style>\n",
       "<table border=\"1\" class=\"dataframe\">\n",
       "  <thead>\n",
       "    <tr style=\"text-align: right;\">\n",
       "      <th></th>\n",
       "      <th>customer_id</th>\n",
       "      <th>address_id</th>\n",
       "      <th>birthdate</th>\n",
       "      <th>gender</th>\n",
       "      <th>job_type</th>\n",
       "      <th>email_provider</th>\n",
       "      <th>flag_phone_provided</th>\n",
       "      <th>flag_privacy</th>\n",
       "    </tr>\n",
       "  </thead>\n",
       "  <tbody>\n",
       "    <tr>\n",
       "      <th>37</th>\n",
       "      <td>501387</td>\n",
       "      <td>900091</td>\n",
       "      <td>1997-02-25</td>\n",
       "      <td>M</td>\n",
       "      <td>NaN</td>\n",
       "      <td>virgilio.it</td>\n",
       "      <td>1.0</td>\n",
       "      <td>True</td>\n",
       "    </tr>\n",
       "    <tr>\n",
       "      <th>44</th>\n",
       "      <td>869732</td>\n",
       "      <td>900091</td>\n",
       "      <td>1996-12-16</td>\n",
       "      <td>M</td>\n",
       "      <td>NaN</td>\n",
       "      <td>libero.it</td>\n",
       "      <td>1.0</td>\n",
       "      <td>True</td>\n",
       "    </tr>\n",
       "    <tr>\n",
       "      <th>80</th>\n",
       "      <td>865261</td>\n",
       "      <td>900091</td>\n",
       "      <td>1996-02-01</td>\n",
       "      <td>F</td>\n",
       "      <td>NaN</td>\n",
       "      <td>gmail.com</td>\n",
       "      <td>1.0</td>\n",
       "      <td>True</td>\n",
       "    </tr>\n",
       "    <tr>\n",
       "      <th>139</th>\n",
       "      <td>866378</td>\n",
       "      <td>900091</td>\n",
       "      <td>1995-01-07</td>\n",
       "      <td>F</td>\n",
       "      <td>NaN</td>\n",
       "      <td>libero.it</td>\n",
       "      <td>1.0</td>\n",
       "      <td>True</td>\n",
       "    </tr>\n",
       "    <tr>\n",
       "      <th>185</th>\n",
       "      <td>871403</td>\n",
       "      <td>900091</td>\n",
       "      <td>1994-05-12</td>\n",
       "      <td>F</td>\n",
       "      <td>NaN</td>\n",
       "      <td>hotmail.it</td>\n",
       "      <td>1.0</td>\n",
       "      <td>True</td>\n",
       "    </tr>\n",
       "  </tbody>\n",
       "</table>\n",
       "</div>"
      ],
      "text/plain": [
       "     customer_id  address_id   birthdate gender job_type email_provider  \\\n",
       "37        501387      900091  1997-02-25      M      NaN    virgilio.it   \n",
       "44        869732      900091  1996-12-16      M      NaN      libero.it   \n",
       "80        865261      900091  1996-02-01      F      NaN      gmail.com   \n",
       "139       866378      900091  1995-01-07      F      NaN      libero.it   \n",
       "185       871403      900091  1994-05-12      F      NaN     hotmail.it   \n",
       "\n",
       "     flag_phone_provided  flag_privacy  \n",
       "37                   1.0          True  \n",
       "44                   1.0          True  \n",
       "80                   1.0          True  \n",
       "139                  1.0          True  \n",
       "185                  1.0          True  "
      ]
     },
     "execution_count": 12,
     "metadata": {},
     "output_type": "execute_result"
    }
   ],
   "source": [
    "customer_data[customer_data['address_id'] == 900091].head()"
   ]
  },
  {
   "cell_type": "markdown",
   "metadata": {},
   "source": [
    "The value is null and must be considered as a missing value."
   ]
  },
  {
   "cell_type": "code",
   "execution_count": 13,
   "metadata": {},
   "outputs": [
    {
     "data": {
      "text/html": [
       "<div>\n",
       "<style scoped>\n",
       "    .dataframe tbody tr th:only-of-type {\n",
       "        vertical-align: middle;\n",
       "    }\n",
       "\n",
       "    .dataframe tbody tr th {\n",
       "        vertical-align: top;\n",
       "    }\n",
       "\n",
       "    .dataframe thead th {\n",
       "        text-align: right;\n",
       "    }\n",
       "</style>\n",
       "<table border=\"1\" class=\"dataframe\">\n",
       "  <thead>\n",
       "    <tr style=\"text-align: right;\">\n",
       "      <th></th>\n",
       "      <th>address_id</th>\n",
       "      <th>postal_code</th>\n",
       "      <th>district</th>\n",
       "      <th>region</th>\n",
       "    </tr>\n",
       "  </thead>\n",
       "  <tbody>\n",
       "  </tbody>\n",
       "</table>\n",
       "</div>"
      ],
      "text/plain": [
       "Empty DataFrame\n",
       "Columns: [address_id, postal_code, district, region]\n",
       "Index: []"
      ]
     },
     "execution_count": 13,
     "metadata": {},
     "output_type": "execute_result"
    }
   ],
   "source": [
    "adresses_data[adresses_data['address_id'] == 900091]"
   ]
  },
  {
   "cell_type": "markdown",
   "metadata": {},
   "source": [
    "Let's compare addresses and customers to evaluate the addresses and its accuracy"
   ]
  },
  {
   "cell_type": "code",
   "execution_count": 14,
   "metadata": {},
   "outputs": [],
   "source": [
    "customer_addresses_joined_data = customer_data[['customer_id', 'address_id']].merge(adresses_data, on='address_id', how='left')"
   ]
  },
  {
   "cell_type": "markdown",
   "metadata": {},
   "source": [
    "Missing data on addresses\n",
    "There Are 53 address ids that are missing data in the addresses table and thus are not usable."
   ]
  },
  {
   "cell_type": "code",
   "execution_count": 15,
   "metadata": {},
   "outputs": [
    {
     "data": {
      "text/plain": [
       "53"
      ]
     },
     "execution_count": 15,
     "metadata": {},
     "output_type": "execute_result"
    }
   ],
   "source": [
    "customers_missing_address = customer_addresses_joined_data[customer_addresses_joined_data[['postal_code', 'district', 'region']].isnull().all(axis=1)]\n",
    "unique_missing_addresses = customers_missing_address['address_id'].unique()\n",
    "unique_missing_addresses.shape[0]"
   ]
  },
  {
   "cell_type": "code",
   "execution_count": 16,
   "metadata": {},
   "outputs": [
    {
     "data": {
      "text/plain": [
       "2155"
      ]
     },
     "execution_count": 16,
     "metadata": {},
     "output_type": "execute_result"
    }
   ],
   "source": [
    "customer_data['address_id'].isin(unique_missing_addresses).sum()"
   ]
  },
  {
   "cell_type": "code",
   "execution_count": 60,
   "metadata": {},
   "outputs": [
    {
     "data": {
      "text/html": [
       "<div>\n",
       "<style scoped>\n",
       "    .dataframe tbody tr th:only-of-type {\n",
       "        vertical-align: middle;\n",
       "    }\n",
       "\n",
       "    .dataframe tbody tr th {\n",
       "        vertical-align: top;\n",
       "    }\n",
       "\n",
       "    .dataframe thead th {\n",
       "        text-align: right;\n",
       "    }\n",
       "</style>\n",
       "<table border=\"1\" class=\"dataframe\">\n",
       "  <thead>\n",
       "    <tr style=\"text-align: right;\">\n",
       "      <th></th>\n",
       "      <th>address_id</th>\n",
       "      <th>postal_code</th>\n",
       "      <th>district</th>\n",
       "      <th>region</th>\n",
       "    </tr>\n",
       "  </thead>\n",
       "  <tbody>\n",
       "    <tr>\n",
       "      <th>150366</th>\n",
       "      <td>575043</td>\n",
       "      <td>46044.0</td>\n",
       "      <td>MN</td>\n",
       "      <td>LOMBARDIA</td>\n",
       "    </tr>\n",
       "    <tr>\n",
       "      <th>32501</th>\n",
       "      <td>452629</td>\n",
       "      <td>30174.0</td>\n",
       "      <td>VE</td>\n",
       "      <td>VENETO</td>\n",
       "    </tr>\n",
       "    <tr>\n",
       "      <th>83020</th>\n",
       "      <td>419110</td>\n",
       "      <td>81039.0</td>\n",
       "      <td>CE</td>\n",
       "      <td>CAMPANIA</td>\n",
       "    </tr>\n",
       "    <tr>\n",
       "      <th>196490</th>\n",
       "      <td>211316</td>\n",
       "      <td>65010.0</td>\n",
       "      <td>PE</td>\n",
       "      <td>ABRUZZO</td>\n",
       "    </tr>\n",
       "    <tr>\n",
       "      <th>12520</th>\n",
       "      <td>238618</td>\n",
       "      <td>36040.0</td>\n",
       "      <td>VI</td>\n",
       "      <td>VENETO</td>\n",
       "    </tr>\n",
       "  </tbody>\n",
       "</table>\n",
       "</div>"
      ],
      "text/plain": [
       "        address_id  postal_code district     region\n",
       "150366      575043      46044.0       MN  LOMBARDIA\n",
       "32501       452629      30174.0       VE     VENETO\n",
       "83020       419110      81039.0       CE   CAMPANIA\n",
       "196490      211316      65010.0       PE    ABRUZZO\n",
       "12520       238618      36040.0       VI     VENETO"
      ]
     },
     "execution_count": 60,
     "metadata": {},
     "output_type": "execute_result"
    }
   ],
   "source": [
    "adresses_data.sample(5)"
   ]
  },
  {
   "cell_type": "markdown",
   "metadata": {},
   "source": [
    "# Customer Account"
   ]
  },
  {
   "cell_type": "code",
   "execution_count": 51,
   "metadata": {},
   "outputs": [
    {
     "data": {
      "text/plain": [
       "(169494, 6)"
      ]
     },
     "execution_count": 51,
     "metadata": {},
     "output_type": "execute_result"
    }
   ],
   "source": [
    "customer_accounts_data.shape"
   ]
  },
  {
   "cell_type": "code",
   "execution_count": 62,
   "metadata": {},
   "outputs": [
    {
     "name": "stderr",
     "output_type": "stream",
     "text": [
      "C:\\Users\\BlackDEATH\\AppData\\Local\\Temp\\ipykernel_12912\\2887972593.py:1: UserWarning: Boolean Series key will be reindexed to match DataFrame index.\n",
      "  customer_accounts_data[customer_accounts_data['customer_id'].value_counts() > 1]\n"
     ]
    },
    {
     "ename": "IndexingError",
     "evalue": "Unalignable boolean Series provided as indexer (index of the boolean Series and of the indexed object do not match).",
     "output_type": "error",
     "traceback": [
      "\u001b[1;31m---------------------------------------------------------------------------\u001b[0m",
      "\u001b[1;31mIndexingError\u001b[0m                             Traceback (most recent call last)",
      "Cell \u001b[1;32mIn[62], line 1\u001b[0m\n\u001b[1;32m----> 1\u001b[0m customer_accounts_data[customer_accounts_data[\u001b[38;5;124m'\u001b[39m\u001b[38;5;124mcustomer_id\u001b[39m\u001b[38;5;124m'\u001b[39m]\u001b[38;5;241m.\u001b[39mvalue_counts() \u001b[38;5;241m>\u001b[39m \u001b[38;5;241m1\u001b[39m]\n",
      "File \u001b[1;32mb:\\Software\\Anaconda\\Lib\\site-packages\\pandas\\core\\frame.py:3752\u001b[0m, in \u001b[0;36mDataFrame.__getitem__\u001b[1;34m(self, key)\u001b[0m\n\u001b[0;32m   3750\u001b[0m \u001b[38;5;66;03m# Do we have a (boolean) 1d indexer?\u001b[39;00m\n\u001b[0;32m   3751\u001b[0m \u001b[38;5;28;01mif\u001b[39;00m com\u001b[38;5;241m.\u001b[39mis_bool_indexer(key):\n\u001b[1;32m-> 3752\u001b[0m     \u001b[38;5;28;01mreturn\u001b[39;00m \u001b[38;5;28mself\u001b[39m\u001b[38;5;241m.\u001b[39m_getitem_bool_array(key)\n\u001b[0;32m   3754\u001b[0m \u001b[38;5;66;03m# We are left with two options: a single key, and a collection of keys,\u001b[39;00m\n\u001b[0;32m   3755\u001b[0m \u001b[38;5;66;03m# We interpret tuples as collections only for non-MultiIndex\u001b[39;00m\n\u001b[0;32m   3756\u001b[0m is_single_key \u001b[38;5;241m=\u001b[39m \u001b[38;5;28misinstance\u001b[39m(key, \u001b[38;5;28mtuple\u001b[39m) \u001b[38;5;129;01mor\u001b[39;00m \u001b[38;5;129;01mnot\u001b[39;00m is_list_like(key)\n",
      "File \u001b[1;32mb:\\Software\\Anaconda\\Lib\\site-packages\\pandas\\core\\frame.py:3805\u001b[0m, in \u001b[0;36mDataFrame._getitem_bool_array\u001b[1;34m(self, key)\u001b[0m\n\u001b[0;32m   3799\u001b[0m     \u001b[38;5;28;01mraise\u001b[39;00m \u001b[38;5;167;01mValueError\u001b[39;00m(\n\u001b[0;32m   3800\u001b[0m         \u001b[38;5;124mf\u001b[39m\u001b[38;5;124m\"\u001b[39m\u001b[38;5;124mItem wrong length \u001b[39m\u001b[38;5;132;01m{\u001b[39;00m\u001b[38;5;28mlen\u001b[39m(key)\u001b[38;5;132;01m}\u001b[39;00m\u001b[38;5;124m instead of \u001b[39m\u001b[38;5;132;01m{\u001b[39;00m\u001b[38;5;28mlen\u001b[39m(\u001b[38;5;28mself\u001b[39m\u001b[38;5;241m.\u001b[39mindex)\u001b[38;5;132;01m}\u001b[39;00m\u001b[38;5;124m.\u001b[39m\u001b[38;5;124m\"\u001b[39m\n\u001b[0;32m   3801\u001b[0m     )\n\u001b[0;32m   3803\u001b[0m \u001b[38;5;66;03m# check_bool_indexer will throw exception if Series key cannot\u001b[39;00m\n\u001b[0;32m   3804\u001b[0m \u001b[38;5;66;03m# be reindexed to match DataFrame rows\u001b[39;00m\n\u001b[1;32m-> 3805\u001b[0m key \u001b[38;5;241m=\u001b[39m check_bool_indexer(\u001b[38;5;28mself\u001b[39m\u001b[38;5;241m.\u001b[39mindex, key)\n\u001b[0;32m   3807\u001b[0m \u001b[38;5;28;01mif\u001b[39;00m key\u001b[38;5;241m.\u001b[39mall():\n\u001b[0;32m   3808\u001b[0m     \u001b[38;5;28;01mreturn\u001b[39;00m \u001b[38;5;28mself\u001b[39m\u001b[38;5;241m.\u001b[39mcopy(deep\u001b[38;5;241m=\u001b[39m\u001b[38;5;28;01mNone\u001b[39;00m)\n",
      "File \u001b[1;32mb:\\Software\\Anaconda\\Lib\\site-packages\\pandas\\core\\indexing.py:2506\u001b[0m, in \u001b[0;36mcheck_bool_indexer\u001b[1;34m(index, key)\u001b[0m\n\u001b[0;32m   2504\u001b[0m indexer \u001b[38;5;241m=\u001b[39m result\u001b[38;5;241m.\u001b[39mindex\u001b[38;5;241m.\u001b[39mget_indexer_for(index)\n\u001b[0;32m   2505\u001b[0m \u001b[38;5;28;01mif\u001b[39;00m \u001b[38;5;241m-\u001b[39m\u001b[38;5;241m1\u001b[39m \u001b[38;5;129;01min\u001b[39;00m indexer:\n\u001b[1;32m-> 2506\u001b[0m     \u001b[38;5;28;01mraise\u001b[39;00m IndexingError(\n\u001b[0;32m   2507\u001b[0m         \u001b[38;5;124m\"\u001b[39m\u001b[38;5;124mUnalignable boolean Series provided as \u001b[39m\u001b[38;5;124m\"\u001b[39m\n\u001b[0;32m   2508\u001b[0m         \u001b[38;5;124m\"\u001b[39m\u001b[38;5;124mindexer (index of the boolean Series and of \u001b[39m\u001b[38;5;124m\"\u001b[39m\n\u001b[0;32m   2509\u001b[0m         \u001b[38;5;124m\"\u001b[39m\u001b[38;5;124mthe indexed object do not match).\u001b[39m\u001b[38;5;124m\"\u001b[39m\n\u001b[0;32m   2510\u001b[0m     )\n\u001b[0;32m   2512\u001b[0m result \u001b[38;5;241m=\u001b[39m result\u001b[38;5;241m.\u001b[39mtake(indexer)\n\u001b[0;32m   2514\u001b[0m \u001b[38;5;66;03m# fall through for boolean\u001b[39;00m\n",
      "\u001b[1;31mIndexingError\u001b[0m: Unalignable boolean Series provided as indexer (index of the boolean Series and of the indexed object do not match)."
     ]
    }
   ],
   "source": [
    "customer_accounts_data[customer_accounts_data['customer_id'].value_counts() > 1]"
   ]
  },
  {
   "cell_type": "code",
   "execution_count": 58,
   "metadata": {},
   "outputs": [
    {
     "data": {
      "text/plain": [
       "account_id\n",
       "774557    3\n",
       "373919    2\n",
       "111470    2\n",
       "14985     2\n",
       "826014    2\n",
       "         ..\n",
       "369815    1\n",
       "369969    1\n",
       "369819    1\n",
       "369821    1\n",
       "839535    1\n",
       "Name: count, Length: 169086, dtype: int64"
      ]
     },
     "execution_count": 58,
     "metadata": {},
     "output_type": "execute_result"
    }
   ],
   "source": [
    "customer_accounts_data['account_id'].value_counts()"
   ]
  },
  {
   "cell_type": "code",
   "execution_count": 59,
   "metadata": {},
   "outputs": [
    {
     "data": {
      "text/html": [
       "<div>\n",
       "<style scoped>\n",
       "    .dataframe tbody tr th:only-of-type {\n",
       "        vertical-align: middle;\n",
       "    }\n",
       "\n",
       "    .dataframe tbody tr th {\n",
       "        vertical-align: top;\n",
       "    }\n",
       "\n",
       "    .dataframe thead th {\n",
       "        text-align: right;\n",
       "    }\n",
       "</style>\n",
       "<table border=\"1\" class=\"dataframe\">\n",
       "  <thead>\n",
       "    <tr style=\"text-align: right;\">\n",
       "      <th></th>\n",
       "      <th>customer_id</th>\n",
       "      <th>account_id</th>\n",
       "      <th>favorite_store</th>\n",
       "      <th>loyalty_type</th>\n",
       "      <th>loyatlty_status</th>\n",
       "      <th>activation_date</th>\n",
       "    </tr>\n",
       "  </thead>\n",
       "  <tbody>\n",
       "    <tr>\n",
       "      <th>123527</th>\n",
       "      <td>760880</td>\n",
       "      <td>774557</td>\n",
       "      <td>36</td>\n",
       "      <td>premium</td>\n",
       "      <td>1</td>\n",
       "      <td>2023-01-28</td>\n",
       "    </tr>\n",
       "    <tr>\n",
       "      <th>124271</th>\n",
       "      <td>801565</td>\n",
       "      <td>774557</td>\n",
       "      <td>36</td>\n",
       "      <td>premium</td>\n",
       "      <td>1</td>\n",
       "      <td>2023-01-28</td>\n",
       "    </tr>\n",
       "    <tr>\n",
       "      <th>127801</th>\n",
       "      <td>826836</td>\n",
       "      <td>774557</td>\n",
       "      <td>36</td>\n",
       "      <td>premium</td>\n",
       "      <td>1</td>\n",
       "      <td>2023-01-28</td>\n",
       "    </tr>\n",
       "  </tbody>\n",
       "</table>\n",
       "</div>"
      ],
      "text/plain": [
       "        customer_id  account_id  favorite_store loyalty_type  loyatlty_status  \\\n",
       "123527       760880      774557              36      premium                1   \n",
       "124271       801565      774557              36      premium                1   \n",
       "127801       826836      774557              36      premium                1   \n",
       "\n",
       "       activation_date  \n",
       "123527      2023-01-28  \n",
       "124271      2023-01-28  \n",
       "127801      2023-01-28  "
      ]
     },
     "execution_count": 59,
     "metadata": {},
     "output_type": "execute_result"
    }
   ],
   "source": [
    "customer_accounts_data[customer_accounts_data['account_id'] == 774557]"
   ]
  },
  {
   "cell_type": "code",
   "execution_count": 56,
   "metadata": {},
   "outputs": [
    {
     "data": {
      "text/html": [
       "<div>\n",
       "<style scoped>\n",
       "    .dataframe tbody tr th:only-of-type {\n",
       "        vertical-align: middle;\n",
       "    }\n",
       "\n",
       "    .dataframe tbody tr th {\n",
       "        vertical-align: top;\n",
       "    }\n",
       "\n",
       "    .dataframe thead th {\n",
       "        text-align: right;\n",
       "    }\n",
       "</style>\n",
       "<table border=\"1\" class=\"dataframe\">\n",
       "  <thead>\n",
       "    <tr style=\"text-align: right;\">\n",
       "      <th></th>\n",
       "      <th>customer_id</th>\n",
       "      <th>account_id</th>\n",
       "      <th>favorite_store</th>\n",
       "      <th>loyalty_type</th>\n",
       "      <th>loyatlty_status</th>\n",
       "      <th>activation_date</th>\n",
       "    </tr>\n",
       "  </thead>\n",
       "  <tbody>\n",
       "    <tr>\n",
       "      <th>134125</th>\n",
       "      <td>859327</td>\n",
       "      <td>849495</td>\n",
       "      <td>24</td>\n",
       "      <td>business premium</td>\n",
       "      <td>0</td>\n",
       "      <td>2023-03-15</td>\n",
       "    </tr>\n",
       "    <tr>\n",
       "      <th>134126</th>\n",
       "      <td>859327</td>\n",
       "      <td>849532</td>\n",
       "      <td>24</td>\n",
       "      <td>business premium</td>\n",
       "      <td>0</td>\n",
       "      <td>2023-03-15</td>\n",
       "    </tr>\n",
       "    <tr>\n",
       "      <th>134127</th>\n",
       "      <td>859327</td>\n",
       "      <td>849542</td>\n",
       "      <td>24</td>\n",
       "      <td>business standard</td>\n",
       "      <td>1</td>\n",
       "      <td>2023-03-15</td>\n",
       "    </tr>\n",
       "  </tbody>\n",
       "</table>\n",
       "</div>"
      ],
      "text/plain": [
       "        customer_id  account_id  favorite_store       loyalty_type  \\\n",
       "134125       859327      849495              24   business premium   \n",
       "134126       859327      849532              24   business premium   \n",
       "134127       859327      849542              24  business standard   \n",
       "\n",
       "        loyatlty_status activation_date  \n",
       "134125                0      2023-03-15  \n",
       "134126                0      2023-03-15  \n",
       "134127                1      2023-03-15  "
      ]
     },
     "execution_count": 56,
     "metadata": {},
     "output_type": "execute_result"
    }
   ],
   "source": [
    "customer_accounts_data[customer_accounts_data['customer_id'] == 859327]"
   ]
  },
  {
   "cell_type": "code",
   "execution_count": 47,
   "metadata": {},
   "outputs": [
    {
     "data": {
      "text/html": [
       "<div>\n",
       "<style scoped>\n",
       "    .dataframe tbody tr th:only-of-type {\n",
       "        vertical-align: middle;\n",
       "    }\n",
       "\n",
       "    .dataframe tbody tr th {\n",
       "        vertical-align: top;\n",
       "    }\n",
       "\n",
       "    .dataframe thead th {\n",
       "        text-align: right;\n",
       "    }\n",
       "</style>\n",
       "<table border=\"1\" class=\"dataframe\">\n",
       "  <thead>\n",
       "    <tr style=\"text-align: right;\">\n",
       "      <th></th>\n",
       "      <th>customer_id</th>\n",
       "      <th>account_id</th>\n",
       "      <th>favorite_store</th>\n",
       "      <th>loyalty_type</th>\n",
       "      <th>loyatlty_status</th>\n",
       "      <th>activation_date</th>\n",
       "    </tr>\n",
       "  </thead>\n",
       "  <tbody>\n",
       "    <tr>\n",
       "      <th>38</th>\n",
       "      <td>21750</td>\n",
       "      <td>155594</td>\n",
       "      <td>20</td>\n",
       "      <td>premium</td>\n",
       "      <td>0</td>\n",
       "      <td>2022-03-13</td>\n",
       "    </tr>\n",
       "    <tr>\n",
       "      <th>457</th>\n",
       "      <td>106366</td>\n",
       "      <td>424</td>\n",
       "      <td>47</td>\n",
       "      <td>business standard</td>\n",
       "      <td>0</td>\n",
       "      <td>2022-01-02</td>\n",
       "    </tr>\n",
       "    <tr>\n",
       "      <th>523</th>\n",
       "      <td>106937</td>\n",
       "      <td>1007</td>\n",
       "      <td>47</td>\n",
       "      <td>standard</td>\n",
       "      <td>0</td>\n",
       "      <td>2022-01-02</td>\n",
       "    </tr>\n",
       "    <tr>\n",
       "      <th>668</th>\n",
       "      <td>102670</td>\n",
       "      <td>2852</td>\n",
       "      <td>46</td>\n",
       "      <td>standard</td>\n",
       "      <td>0</td>\n",
       "      <td>2022-01-03</td>\n",
       "    </tr>\n",
       "    <tr>\n",
       "      <th>718</th>\n",
       "      <td>108013</td>\n",
       "      <td>2111</td>\n",
       "      <td>7</td>\n",
       "      <td>premium</td>\n",
       "      <td>0</td>\n",
       "      <td>2022-01-03</td>\n",
       "    </tr>\n",
       "    <tr>\n",
       "      <th>...</th>\n",
       "      <td>...</td>\n",
       "      <td>...</td>\n",
       "      <td>...</td>\n",
       "      <td>...</td>\n",
       "      <td>...</td>\n",
       "      <td>...</td>\n",
       "    </tr>\n",
       "    <tr>\n",
       "      <th>168948</th>\n",
       "      <td>871366</td>\n",
       "      <td>856504</td>\n",
       "      <td>21</td>\n",
       "      <td>standard</td>\n",
       "      <td>0</td>\n",
       "      <td>2023-03-18</td>\n",
       "    </tr>\n",
       "    <tr>\n",
       "      <th>169274</th>\n",
       "      <td>899702</td>\n",
       "      <td>887777</td>\n",
       "      <td>49</td>\n",
       "      <td>business standard</td>\n",
       "      <td>0</td>\n",
       "      <td>2023-04-05</td>\n",
       "    </tr>\n",
       "    <tr>\n",
       "      <th>169278</th>\n",
       "      <td>487516</td>\n",
       "      <td>424599</td>\n",
       "      <td>1</td>\n",
       "      <td>standard</td>\n",
       "      <td>0</td>\n",
       "      <td>2022-07-21</td>\n",
       "    </tr>\n",
       "    <tr>\n",
       "      <th>169405</th>\n",
       "      <td>905490</td>\n",
       "      <td>894316</td>\n",
       "      <td>24</td>\n",
       "      <td>standard</td>\n",
       "      <td>0</td>\n",
       "      <td>2023-04-08</td>\n",
       "    </tr>\n",
       "    <tr>\n",
       "      <th>169420</th>\n",
       "      <td>832317</td>\n",
       "      <td>812818</td>\n",
       "      <td>1</td>\n",
       "      <td>standard</td>\n",
       "      <td>0</td>\n",
       "      <td>2023-02-22</td>\n",
       "    </tr>\n",
       "  </tbody>\n",
       "</table>\n",
       "<p>1330 rows × 6 columns</p>\n",
       "</div>"
      ],
      "text/plain": [
       "        customer_id  account_id  favorite_store       loyalty_type  \\\n",
       "38            21750      155594              20            premium   \n",
       "457          106366         424              47  business standard   \n",
       "523          106937        1007              47           standard   \n",
       "668          102670        2852              46           standard   \n",
       "718          108013        2111               7            premium   \n",
       "...             ...         ...             ...                ...   \n",
       "168948       871366      856504              21           standard   \n",
       "169274       899702      887777              49  business standard   \n",
       "169278       487516      424599               1           standard   \n",
       "169405       905490      894316              24           standard   \n",
       "169420       832317      812818               1           standard   \n",
       "\n",
       "        loyatlty_status activation_date  \n",
       "38                    0      2022-03-13  \n",
       "457                   0      2022-01-02  \n",
       "523                   0      2022-01-02  \n",
       "668                   0      2022-01-03  \n",
       "718                   0      2022-01-03  \n",
       "...                 ...             ...  \n",
       "168948                0      2023-03-18  \n",
       "169274                0      2023-04-05  \n",
       "169278                0      2022-07-21  \n",
       "169405                0      2023-04-08  \n",
       "169420                0      2023-02-22  \n",
       "\n",
       "[1330 rows x 6 columns]"
      ]
     },
     "execution_count": 47,
     "metadata": {},
     "output_type": "execute_result"
    }
   ],
   "source": [
    "customer_accounts_data[customer_accounts_data['loyatlty_status'] == 0]"
   ]
  },
  {
   "cell_type": "markdown",
   "metadata": {},
   "source": [
    "# Products\n",
    "- No names for the Products\n",
    "- 14 classes of products / 88538 number of products"
   ]
  },
  {
   "cell_type": "code",
   "execution_count": 26,
   "metadata": {},
   "outputs": [
    {
     "data": {
      "text/plain": [
       "(88538, 2)"
      ]
     },
     "execution_count": 26,
     "metadata": {},
     "output_type": "execute_result"
    }
   ],
   "source": [
    "products_data.shape"
   ]
  },
  {
   "cell_type": "code",
   "execution_count": 25,
   "metadata": {},
   "outputs": [
    {
     "data": {
      "text/html": [
       "<div>\n",
       "<style scoped>\n",
       "    .dataframe tbody tr th:only-of-type {\n",
       "        vertical-align: middle;\n",
       "    }\n",
       "\n",
       "    .dataframe tbody tr th {\n",
       "        vertical-align: top;\n",
       "    }\n",
       "\n",
       "    .dataframe thead th {\n",
       "        text-align: right;\n",
       "    }\n",
       "</style>\n",
       "<table border=\"1\" class=\"dataframe\">\n",
       "  <thead>\n",
       "    <tr style=\"text-align: right;\">\n",
       "      <th></th>\n",
       "      <th>product_id</th>\n",
       "      <th>product_class</th>\n",
       "    </tr>\n",
       "  </thead>\n",
       "  <tbody>\n",
       "    <tr>\n",
       "      <th>0</th>\n",
       "      <td>35996051</td>\n",
       "      <td>9</td>\n",
       "    </tr>\n",
       "    <tr>\n",
       "      <th>1</th>\n",
       "      <td>35980371</td>\n",
       "      <td>14</td>\n",
       "    </tr>\n",
       "    <tr>\n",
       "      <th>2</th>\n",
       "      <td>31276196</td>\n",
       "      <td>4</td>\n",
       "    </tr>\n",
       "    <tr>\n",
       "      <th>3</th>\n",
       "      <td>31276224</td>\n",
       "      <td>4</td>\n",
       "    </tr>\n",
       "    <tr>\n",
       "      <th>4</th>\n",
       "      <td>31456495</td>\n",
       "      <td>4</td>\n",
       "    </tr>\n",
       "  </tbody>\n",
       "</table>\n",
       "</div>"
      ],
      "text/plain": [
       "   product_id  product_class\n",
       "0    35996051              9\n",
       "1    35980371             14\n",
       "2    31276196              4\n",
       "3    31276224              4\n",
       "4    31456495              4"
      ]
     },
     "execution_count": 25,
     "metadata": {},
     "output_type": "execute_result"
    }
   ],
   "source": [
    "products_data.head()"
   ]
  },
  {
   "cell_type": "code",
   "execution_count": 30,
   "metadata": {},
   "outputs": [
    {
     "data": {
      "text/plain": [
       "88538"
      ]
     },
     "execution_count": 30,
     "metadata": {},
     "output_type": "execute_result"
    }
   ],
   "source": [
    "products_data['product_id'].unique().shape[0]"
   ]
  },
  {
   "cell_type": "code",
   "execution_count": 35,
   "metadata": {},
   "outputs": [
    {
     "data": {
      "text/plain": [
       "product_class\n",
       "1      2203\n",
       "2      4105\n",
       "3      7326\n",
       "4      5945\n",
       "5      2528\n",
       "6      3340\n",
       "7      9974\n",
       "8      2241\n",
       "9     13325\n",
       "10     9845\n",
       "11     6690\n",
       "12    13893\n",
       "13     5283\n",
       "14     1840\n",
       "Name: count, dtype: int64"
      ]
     },
     "execution_count": 35,
     "metadata": {},
     "output_type": "execute_result"
    }
   ],
   "source": [
    "products_data['product_class'].value_counts().sort_index()"
   ]
  },
  {
   "cell_type": "markdown",
   "metadata": {},
   "source": [
    "# Orders"
   ]
  },
  {
   "cell_type": "code",
   "execution_count": 36,
   "metadata": {},
   "outputs": [
    {
     "data": {
      "text/plain": [
       "(1039865, 8)"
      ]
     },
     "execution_count": 36,
     "metadata": {},
     "output_type": "execute_result"
    }
   ],
   "source": [
    "orders_data.shape"
   ]
  },
  {
   "cell_type": "code",
   "execution_count": 37,
   "metadata": {},
   "outputs": [
    {
     "data": {
      "text/html": [
       "<div>\n",
       "<style scoped>\n",
       "    .dataframe tbody tr th:only-of-type {\n",
       "        vertical-align: middle;\n",
       "    }\n",
       "\n",
       "    .dataframe tbody tr th {\n",
       "        vertical-align: top;\n",
       "    }\n",
       "\n",
       "    .dataframe thead th {\n",
       "        text-align: right;\n",
       "    }\n",
       "</style>\n",
       "<table border=\"1\" class=\"dataframe\">\n",
       "  <thead>\n",
       "    <tr style=\"text-align: right;\">\n",
       "      <th></th>\n",
       "      <th>order_id</th>\n",
       "      <th>customer_id</th>\n",
       "      <th>store_id</th>\n",
       "      <th>product_id</th>\n",
       "      <th>direction</th>\n",
       "      <th>gross_price</th>\n",
       "      <th>price_reduction</th>\n",
       "      <th>purchase_datetime</th>\n",
       "    </tr>\n",
       "  </thead>\n",
       "  <tbody>\n",
       "    <tr>\n",
       "      <th>0</th>\n",
       "      <td>8fe4346b53d0c781b275a614175804de</td>\n",
       "      <td>23</td>\n",
       "      <td>49</td>\n",
       "      <td>35551922</td>\n",
       "      <td>1</td>\n",
       "      <td>125.40</td>\n",
       "      <td>0.0</td>\n",
       "      <td>2022-10-04T182851</td>\n",
       "    </tr>\n",
       "    <tr>\n",
       "      <th>1</th>\n",
       "      <td>8fe4346b53d0c781b275a614175804de</td>\n",
       "      <td>23</td>\n",
       "      <td>49</td>\n",
       "      <td>30344384</td>\n",
       "      <td>1</td>\n",
       "      <td>8.30</td>\n",
       "      <td>0.0</td>\n",
       "      <td>2022-10-04T182851</td>\n",
       "    </tr>\n",
       "    <tr>\n",
       "      <th>2</th>\n",
       "      <td>8fe4346b53d0c781b275a614175804de</td>\n",
       "      <td>23</td>\n",
       "      <td>49</td>\n",
       "      <td>33794292</td>\n",
       "      <td>1</td>\n",
       "      <td>1.99</td>\n",
       "      <td>0.0</td>\n",
       "      <td>2022-10-04T182851</td>\n",
       "    </tr>\n",
       "    <tr>\n",
       "      <th>3</th>\n",
       "      <td>8fe4346b53d0c781b275a614175804de</td>\n",
       "      <td>23</td>\n",
       "      <td>49</td>\n",
       "      <td>33795776</td>\n",
       "      <td>1</td>\n",
       "      <td>5.10</td>\n",
       "      <td>0.0</td>\n",
       "      <td>2022-10-04T182851</td>\n",
       "    </tr>\n",
       "    <tr>\n",
       "      <th>4</th>\n",
       "      <td>8fe4346b53d0c781b275a614175804de</td>\n",
       "      <td>23</td>\n",
       "      <td>49</td>\n",
       "      <td>36235381</td>\n",
       "      <td>1</td>\n",
       "      <td>76.05</td>\n",
       "      <td>0.0</td>\n",
       "      <td>2022-10-04T182851</td>\n",
       "    </tr>\n",
       "  </tbody>\n",
       "</table>\n",
       "</div>"
      ],
      "text/plain": [
       "                           order_id  customer_id  store_id  product_id  \\\n",
       "0  8fe4346b53d0c781b275a614175804de           23        49    35551922   \n",
       "1  8fe4346b53d0c781b275a614175804de           23        49    30344384   \n",
       "2  8fe4346b53d0c781b275a614175804de           23        49    33794292   \n",
       "3  8fe4346b53d0c781b275a614175804de           23        49    33795776   \n",
       "4  8fe4346b53d0c781b275a614175804de           23        49    36235381   \n",
       "\n",
       "   direction  gross_price  price_reduction  purchase_datetime  \n",
       "0          1       125.40              0.0  2022-10-04T182851  \n",
       "1          1         8.30              0.0  2022-10-04T182851  \n",
       "2          1         1.99              0.0  2022-10-04T182851  \n",
       "3          1         5.10              0.0  2022-10-04T182851  \n",
       "4          1        76.05              0.0  2022-10-04T182851  "
      ]
     },
     "execution_count": 37,
     "metadata": {},
     "output_type": "execute_result"
    }
   ],
   "source": [
    "orders_data.head()"
   ]
  },
  {
   "cell_type": "code",
   "execution_count": 41,
   "metadata": {
    "vscode": {
     "languageId": "ruby"
    }
   },
   "outputs": [
    {
     "data": {
      "text/plain": [
       "datetime.timedelta(days=364)"
      ]
     },
     "execution_count": 41,
     "metadata": {},
     "output_type": "execute_result"
    }
   ],
   "source": [
    "# Assuming your DataFrame is called \"data\"\n",
    "dates = pd.to_datetime(orders_data['purchase_datetime']).dt.date\n",
    "\n",
    "# calculate the range of the entire dataset for the column purchase_datetime\n",
    "purchase_datetime_range = dates.max() - dates.min()\n",
    "purchase_datetime_range"
   ]
  },
  {
   "cell_type": "code",
   "execution_count": null,
   "metadata": {
    "vscode": {
     "languageId": "ruby"
    }
   },
   "outputs": [],
   "source": []
  },
  {
   "cell_type": "markdown",
   "metadata": {},
   "source": [
    "# Samples"
   ]
  },
  {
   "cell_type": "code",
   "execution_count": 17,
   "metadata": {},
   "outputs": [
    {
     "data": {
      "text/html": [
       "<div>\n",
       "<style scoped>\n",
       "    .dataframe tbody tr th:only-of-type {\n",
       "        vertical-align: middle;\n",
       "    }\n",
       "\n",
       "    .dataframe tbody tr th {\n",
       "        vertical-align: top;\n",
       "    }\n",
       "\n",
       "    .dataframe thead th {\n",
       "        text-align: right;\n",
       "    }\n",
       "</style>\n",
       "<table border=\"1\" class=\"dataframe\">\n",
       "  <thead>\n",
       "    <tr style=\"text-align: right;\">\n",
       "      <th></th>\n",
       "      <th>customer_id</th>\n",
       "      <th>account_id</th>\n",
       "      <th>favorite_store</th>\n",
       "      <th>loyalty_type</th>\n",
       "      <th>loyatlty_status</th>\n",
       "      <th>activation_date</th>\n",
       "    </tr>\n",
       "  </thead>\n",
       "  <tbody>\n",
       "    <tr>\n",
       "      <th>0</th>\n",
       "      <td>9557</td>\n",
       "      <td>746573</td>\n",
       "      <td>9</td>\n",
       "      <td>premium</td>\n",
       "      <td>1</td>\n",
       "      <td>2023-01-11</td>\n",
       "    </tr>\n",
       "    <tr>\n",
       "      <th>1</th>\n",
       "      <td>743090</td>\n",
       "      <td>776971</td>\n",
       "      <td>2</td>\n",
       "      <td>premium</td>\n",
       "      <td>1</td>\n",
       "      <td>2023-01-30</td>\n",
       "    </tr>\n",
       "    <tr>\n",
       "      <th>2</th>\n",
       "      <td>813156</td>\n",
       "      <td>791681</td>\n",
       "      <td>45</td>\n",
       "      <td>premium</td>\n",
       "      <td>1</td>\n",
       "      <td>2023-02-08</td>\n",
       "    </tr>\n",
       "    <tr>\n",
       "      <th>3</th>\n",
       "      <td>843392</td>\n",
       "      <td>825439</td>\n",
       "      <td>1</td>\n",
       "      <td>premium</td>\n",
       "      <td>1</td>\n",
       "      <td>2023-03-01</td>\n",
       "    </tr>\n",
       "    <tr>\n",
       "      <th>4</th>\n",
       "      <td>20476</td>\n",
       "      <td>815010</td>\n",
       "      <td>16</td>\n",
       "      <td>premium</td>\n",
       "      <td>1</td>\n",
       "      <td>2023-02-23</td>\n",
       "    </tr>\n",
       "    <tr>\n",
       "      <th>5</th>\n",
       "      <td>770374</td>\n",
       "      <td>814968</td>\n",
       "      <td>10</td>\n",
       "      <td>premium</td>\n",
       "      <td>1</td>\n",
       "      <td>2023-02-23</td>\n",
       "    </tr>\n",
       "    <tr>\n",
       "      <th>6</th>\n",
       "      <td>834288</td>\n",
       "      <td>815151</td>\n",
       "      <td>47</td>\n",
       "      <td>premium</td>\n",
       "      <td>1</td>\n",
       "      <td>2023-02-23</td>\n",
       "    </tr>\n",
       "    <tr>\n",
       "      <th>7</th>\n",
       "      <td>803528</td>\n",
       "      <td>780986</td>\n",
       "      <td>20</td>\n",
       "      <td>premium</td>\n",
       "      <td>1</td>\n",
       "      <td>2023-02-02</td>\n",
       "    </tr>\n",
       "    <tr>\n",
       "      <th>8</th>\n",
       "      <td>783266</td>\n",
       "      <td>814734</td>\n",
       "      <td>34</td>\n",
       "      <td>premium</td>\n",
       "      <td>1</td>\n",
       "      <td>2023-02-23</td>\n",
       "    </tr>\n",
       "    <tr>\n",
       "      <th>9</th>\n",
       "      <td>833948</td>\n",
       "      <td>814712</td>\n",
       "      <td>22</td>\n",
       "      <td>premium</td>\n",
       "      <td>1</td>\n",
       "      <td>2023-02-23</td>\n",
       "    </tr>\n",
       "  </tbody>\n",
       "</table>\n",
       "</div>"
      ],
      "text/plain": [
       "   customer_id  account_id  favorite_store loyalty_type  loyatlty_status  \\\n",
       "0         9557      746573               9      premium                1   \n",
       "1       743090      776971               2      premium                1   \n",
       "2       813156      791681              45      premium                1   \n",
       "3       843392      825439               1      premium                1   \n",
       "4        20476      815010              16      premium                1   \n",
       "5       770374      814968              10      premium                1   \n",
       "6       834288      815151              47      premium                1   \n",
       "7       803528      780986              20      premium                1   \n",
       "8       783266      814734              34      premium                1   \n",
       "9       833948      814712              22      premium                1   \n",
       "\n",
       "  activation_date  \n",
       "0      2023-01-11  \n",
       "1      2023-01-30  \n",
       "2      2023-02-08  \n",
       "3      2023-03-01  \n",
       "4      2023-02-23  \n",
       "5      2023-02-23  \n",
       "6      2023-02-23  \n",
       "7      2023-02-02  \n",
       "8      2023-02-23  \n",
       "9      2023-02-23  "
      ]
     },
     "execution_count": 17,
     "metadata": {},
     "output_type": "execute_result"
    }
   ],
   "source": [
    "customer_accounts_data.head(10)"
   ]
  },
  {
   "cell_type": "code",
   "execution_count": 18,
   "metadata": {},
   "outputs": [
    {
     "data": {
      "text/html": [
       "<div>\n",
       "<style scoped>\n",
       "    .dataframe tbody tr th:only-of-type {\n",
       "        vertical-align: middle;\n",
       "    }\n",
       "\n",
       "    .dataframe tbody tr th {\n",
       "        vertical-align: top;\n",
       "    }\n",
       "\n",
       "    .dataframe thead th {\n",
       "        text-align: right;\n",
       "    }\n",
       "</style>\n",
       "<table border=\"1\" class=\"dataframe\">\n",
       "  <thead>\n",
       "    <tr style=\"text-align: right;\">\n",
       "      <th></th>\n",
       "      <th>customer_id</th>\n",
       "      <th>account_id</th>\n",
       "      <th>favorite_store</th>\n",
       "      <th>loyalty_type</th>\n",
       "      <th>loyatlty_status</th>\n",
       "      <th>activation_date</th>\n",
       "    </tr>\n",
       "  </thead>\n",
       "  <tbody>\n",
       "    <tr>\n",
       "      <th>169484</th>\n",
       "      <td>847148</td>\n",
       "      <td>829643</td>\n",
       "      <td>23</td>\n",
       "      <td>standard</td>\n",
       "      <td>1</td>\n",
       "      <td>2023-03-03</td>\n",
       "    </tr>\n",
       "    <tr>\n",
       "      <th>169485</th>\n",
       "      <td>884402</td>\n",
       "      <td>870527</td>\n",
       "      <td>9</td>\n",
       "      <td>standard</td>\n",
       "      <td>1</td>\n",
       "      <td>2023-03-25</td>\n",
       "    </tr>\n",
       "    <tr>\n",
       "      <th>169486</th>\n",
       "      <td>7865</td>\n",
       "      <td>780242</td>\n",
       "      <td>9</td>\n",
       "      <td>business premium</td>\n",
       "      <td>1</td>\n",
       "      <td>2023-02-01</td>\n",
       "    </tr>\n",
       "    <tr>\n",
       "      <th>169487</th>\n",
       "      <td>540836</td>\n",
       "      <td>485279</td>\n",
       "      <td>24</td>\n",
       "      <td>standard</td>\n",
       "      <td>1</td>\n",
       "      <td>2022-08-24</td>\n",
       "    </tr>\n",
       "    <tr>\n",
       "      <th>169488</th>\n",
       "      <td>362172</td>\n",
       "      <td>281597</td>\n",
       "      <td>32</td>\n",
       "      <td>business standard</td>\n",
       "      <td>1</td>\n",
       "      <td>2022-05-09</td>\n",
       "    </tr>\n",
       "    <tr>\n",
       "      <th>169489</th>\n",
       "      <td>828458</td>\n",
       "      <td>895971</td>\n",
       "      <td>47</td>\n",
       "      <td>standard</td>\n",
       "      <td>1</td>\n",
       "      <td>2023-04-09</td>\n",
       "    </tr>\n",
       "    <tr>\n",
       "      <th>169490</th>\n",
       "      <td>575891</td>\n",
       "      <td>525794</td>\n",
       "      <td>1</td>\n",
       "      <td>standard</td>\n",
       "      <td>1</td>\n",
       "      <td>2022-09-14</td>\n",
       "    </tr>\n",
       "    <tr>\n",
       "      <th>169491</th>\n",
       "      <td>316991</td>\n",
       "      <td>231471</td>\n",
       "      <td>14</td>\n",
       "      <td>standard</td>\n",
       "      <td>1</td>\n",
       "      <td>2022-04-15</td>\n",
       "    </tr>\n",
       "    <tr>\n",
       "      <th>169492</th>\n",
       "      <td>403638</td>\n",
       "      <td>329448</td>\n",
       "      <td>1</td>\n",
       "      <td>standard</td>\n",
       "      <td>1</td>\n",
       "      <td>2022-05-31</td>\n",
       "    </tr>\n",
       "    <tr>\n",
       "      <th>169493</th>\n",
       "      <td>856065</td>\n",
       "      <td>839535</td>\n",
       "      <td>13</td>\n",
       "      <td>standard</td>\n",
       "      <td>1</td>\n",
       "      <td>2023-03-09</td>\n",
       "    </tr>\n",
       "  </tbody>\n",
       "</table>\n",
       "</div>"
      ],
      "text/plain": [
       "        customer_id  account_id  favorite_store       loyalty_type  \\\n",
       "169484       847148      829643              23           standard   \n",
       "169485       884402      870527               9           standard   \n",
       "169486         7865      780242               9   business premium   \n",
       "169487       540836      485279              24           standard   \n",
       "169488       362172      281597              32  business standard   \n",
       "169489       828458      895971              47           standard   \n",
       "169490       575891      525794               1           standard   \n",
       "169491       316991      231471              14           standard   \n",
       "169492       403638      329448               1           standard   \n",
       "169493       856065      839535              13           standard   \n",
       "\n",
       "        loyatlty_status activation_date  \n",
       "169484                1      2023-03-03  \n",
       "169485                1      2023-03-25  \n",
       "169486                1      2023-02-01  \n",
       "169487                1      2022-08-24  \n",
       "169488                1      2022-05-09  \n",
       "169489                1      2023-04-09  \n",
       "169490                1      2022-09-14  \n",
       "169491                1      2022-04-15  \n",
       "169492                1      2022-05-31  \n",
       "169493                1      2023-03-09  "
      ]
     },
     "execution_count": 18,
     "metadata": {},
     "output_type": "execute_result"
    }
   ],
   "source": [
    "customer_accounts_data.tail(10)"
   ]
  },
  {
   "cell_type": "markdown",
   "metadata": {},
   "source": [
    "# Size and Range"
   ]
  },
  {
   "cell_type": "code",
   "execution_count": 19,
   "metadata": {},
   "outputs": [
    {
     "data": {
      "text/plain": [
       "(169494, 6)"
      ]
     },
     "execution_count": 19,
     "metadata": {},
     "output_type": "execute_result"
    }
   ],
   "source": [
    "customer_accounts_data.shape"
   ]
  },
  {
   "cell_type": "code",
   "execution_count": 20,
   "metadata": {},
   "outputs": [
    {
     "data": {
      "text/html": [
       "<div>\n",
       "<style scoped>\n",
       "    .dataframe tbody tr th:only-of-type {\n",
       "        vertical-align: middle;\n",
       "    }\n",
       "\n",
       "    .dataframe tbody tr th {\n",
       "        vertical-align: top;\n",
       "    }\n",
       "\n",
       "    .dataframe thead th {\n",
       "        text-align: right;\n",
       "    }\n",
       "</style>\n",
       "<table border=\"1\" class=\"dataframe\">\n",
       "  <thead>\n",
       "    <tr style=\"text-align: right;\">\n",
       "      <th></th>\n",
       "      <th>customer_id</th>\n",
       "      <th>account_id</th>\n",
       "      <th>favorite_store</th>\n",
       "      <th>loyatlty_status</th>\n",
       "    </tr>\n",
       "  </thead>\n",
       "  <tbody>\n",
       "    <tr>\n",
       "      <th>count</th>\n",
       "      <td>169494.000000</td>\n",
       "      <td>169494.000000</td>\n",
       "      <td>169494.000000</td>\n",
       "      <td>169494.000000</td>\n",
       "    </tr>\n",
       "    <tr>\n",
       "      <th>mean</th>\n",
       "      <td>453477.476807</td>\n",
       "      <td>454051.698202</td>\n",
       "      <td>22.794506</td>\n",
       "      <td>0.992153</td>\n",
       "    </tr>\n",
       "    <tr>\n",
       "      <th>std</th>\n",
       "      <td>260804.531519</td>\n",
       "      <td>253823.105754</td>\n",
       "      <td>15.601191</td>\n",
       "      <td>0.088235</td>\n",
       "    </tr>\n",
       "    <tr>\n",
       "      <th>min</th>\n",
       "      <td>16.000000</td>\n",
       "      <td>3.000000</td>\n",
       "      <td>1.000000</td>\n",
       "      <td>0.000000</td>\n",
       "    </tr>\n",
       "    <tr>\n",
       "      <th>25%</th>\n",
       "      <td>233721.500000</td>\n",
       "      <td>246909.250000</td>\n",
       "      <td>7.000000</td>\n",
       "      <td>1.000000</td>\n",
       "    </tr>\n",
       "    <tr>\n",
       "      <th>50%</th>\n",
       "      <td>455237.500000</td>\n",
       "      <td>450119.500000</td>\n",
       "      <td>24.000000</td>\n",
       "      <td>1.000000</td>\n",
       "    </tr>\n",
       "    <tr>\n",
       "      <th>75%</th>\n",
       "      <td>670383.750000</td>\n",
       "      <td>664456.000000</td>\n",
       "      <td>37.000000</td>\n",
       "      <td>1.000000</td>\n",
       "    </tr>\n",
       "    <tr>\n",
       "      <th>max</th>\n",
       "      <td>934892.000000</td>\n",
       "      <td>928121.000000</td>\n",
       "      <td>49.000000</td>\n",
       "      <td>1.000000</td>\n",
       "    </tr>\n",
       "  </tbody>\n",
       "</table>\n",
       "</div>"
      ],
      "text/plain": [
       "         customer_id     account_id  favorite_store  loyatlty_status\n",
       "count  169494.000000  169494.000000   169494.000000    169494.000000\n",
       "mean   453477.476807  454051.698202       22.794506         0.992153\n",
       "std    260804.531519  253823.105754       15.601191         0.088235\n",
       "min        16.000000       3.000000        1.000000         0.000000\n",
       "25%    233721.500000  246909.250000        7.000000         1.000000\n",
       "50%    455237.500000  450119.500000       24.000000         1.000000\n",
       "75%    670383.750000  664456.000000       37.000000         1.000000\n",
       "max    934892.000000  928121.000000       49.000000         1.000000"
      ]
     },
     "execution_count": 20,
     "metadata": {},
     "output_type": "execute_result"
    }
   ],
   "source": [
    "customer_accounts_data.describe()"
   ]
  },
  {
   "cell_type": "markdown",
   "metadata": {},
   "source": [
    "No Missing data in the consumer data"
   ]
  },
  {
   "cell_type": "code",
   "execution_count": 21,
   "metadata": {},
   "outputs": [
    {
     "name": "stdout",
     "output_type": "stream",
     "text": [
      "<class 'pandas.core.frame.DataFrame'>\n",
      "RangeIndex: 169494 entries, 0 to 169493\n",
      "Data columns (total 6 columns):\n",
      " #   Column           Non-Null Count   Dtype \n",
      "---  ------           --------------   ----- \n",
      " 0   customer_id      169494 non-null  int64 \n",
      " 1   account_id       169494 non-null  int64 \n",
      " 2   favorite_store   169494 non-null  int64 \n",
      " 3   loyalty_type     169494 non-null  object\n",
      " 4   loyatlty_status  169494 non-null  int64 \n",
      " 5   activation_date  169494 non-null  object\n",
      "dtypes: int64(4), object(2)\n",
      "memory usage: 7.8+ MB\n"
     ]
    }
   ],
   "source": [
    "customer_accounts_data.info()"
   ]
  },
  {
   "cell_type": "code",
   "execution_count": 22,
   "metadata": {},
   "outputs": [
    {
     "data": {
      "text/plain": [
       "310"
      ]
     },
     "execution_count": 22,
     "metadata": {},
     "output_type": "execute_result"
    }
   ],
   "source": [
    "customer_accounts_data['customer_id'].duplicated().sum()"
   ]
  },
  {
   "cell_type": "code",
   "execution_count": 23,
   "metadata": {},
   "outputs": [
    {
     "data": {
      "text/plain": [
       "0"
      ]
     },
     "execution_count": 23,
     "metadata": {},
     "output_type": "execute_result"
    }
   ],
   "source": [
    "customer_accounts_data[['customer_id', 'account_id']].duplicated().sum()"
   ]
  },
  {
   "cell_type": "markdown",
   "metadata": {},
   "source": [
    "# Product Analysis"
   ]
  },
  {
   "cell_type": "markdown",
   "metadata": {},
   "source": [
    "## Most Sold Products"
   ]
  },
  {
   "cell_type": "markdown",
   "metadata": {},
   "source": [
    "We ignore the refunds for this analysis"
   ]
  },
  {
   "cell_type": "code",
   "execution_count": 9,
   "metadata": {},
   "outputs": [],
   "source": [
    "data = orders_data[orders_data['direction'] == 1]"
   ]
  },
  {
   "cell_type": "markdown",
   "metadata": {},
   "source": [
    "### General\n",
    "What are the most sold products among all the data?"
   ]
  },
  {
   "cell_type": "code",
   "execution_count": 10,
   "metadata": {},
   "outputs": [
    {
     "data": {
      "text/html": [
       "<div>\n",
       "<style scoped>\n",
       "    .dataframe tbody tr th:only-of-type {\n",
       "        vertical-align: middle;\n",
       "    }\n",
       "\n",
       "    .dataframe tbody tr th {\n",
       "        vertical-align: top;\n",
       "    }\n",
       "\n",
       "    .dataframe thead th {\n",
       "        text-align: right;\n",
       "    }\n",
       "</style>\n",
       "<table border=\"1\" class=\"dataframe\">\n",
       "  <thead>\n",
       "    <tr style=\"text-align: right;\">\n",
       "      <th></th>\n",
       "      <th>order_id</th>\n",
       "      <th>customer_id</th>\n",
       "      <th>store_id</th>\n",
       "      <th>product_id</th>\n",
       "      <th>direction</th>\n",
       "      <th>gross_price</th>\n",
       "      <th>price_reduction</th>\n",
       "      <th>purchase_datetime</th>\n",
       "    </tr>\n",
       "  </thead>\n",
       "  <tbody>\n",
       "    <tr>\n",
       "      <th>0</th>\n",
       "      <td>8fe4346b53d0c781b275a614175804de</td>\n",
       "      <td>23</td>\n",
       "      <td>49</td>\n",
       "      <td>35551922</td>\n",
       "      <td>1</td>\n",
       "      <td>125.40</td>\n",
       "      <td>0.0</td>\n",
       "      <td>2022-10-04T182851</td>\n",
       "    </tr>\n",
       "    <tr>\n",
       "      <th>1</th>\n",
       "      <td>8fe4346b53d0c781b275a614175804de</td>\n",
       "      <td>23</td>\n",
       "      <td>49</td>\n",
       "      <td>30344384</td>\n",
       "      <td>1</td>\n",
       "      <td>8.30</td>\n",
       "      <td>0.0</td>\n",
       "      <td>2022-10-04T182851</td>\n",
       "    </tr>\n",
       "    <tr>\n",
       "      <th>2</th>\n",
       "      <td>8fe4346b53d0c781b275a614175804de</td>\n",
       "      <td>23</td>\n",
       "      <td>49</td>\n",
       "      <td>33794292</td>\n",
       "      <td>1</td>\n",
       "      <td>1.99</td>\n",
       "      <td>0.0</td>\n",
       "      <td>2022-10-04T182851</td>\n",
       "    </tr>\n",
       "    <tr>\n",
       "      <th>3</th>\n",
       "      <td>8fe4346b53d0c781b275a614175804de</td>\n",
       "      <td>23</td>\n",
       "      <td>49</td>\n",
       "      <td>33795776</td>\n",
       "      <td>1</td>\n",
       "      <td>5.10</td>\n",
       "      <td>0.0</td>\n",
       "      <td>2022-10-04T182851</td>\n",
       "    </tr>\n",
       "    <tr>\n",
       "      <th>4</th>\n",
       "      <td>8fe4346b53d0c781b275a614175804de</td>\n",
       "      <td>23</td>\n",
       "      <td>49</td>\n",
       "      <td>36235381</td>\n",
       "      <td>1</td>\n",
       "      <td>76.05</td>\n",
       "      <td>0.0</td>\n",
       "      <td>2022-10-04T182851</td>\n",
       "    </tr>\n",
       "  </tbody>\n",
       "</table>\n",
       "</div>"
      ],
      "text/plain": [
       "                           order_id  customer_id  store_id  product_id  \\\n",
       "0  8fe4346b53d0c781b275a614175804de           23        49    35551922   \n",
       "1  8fe4346b53d0c781b275a614175804de           23        49    30344384   \n",
       "2  8fe4346b53d0c781b275a614175804de           23        49    33794292   \n",
       "3  8fe4346b53d0c781b275a614175804de           23        49    33795776   \n",
       "4  8fe4346b53d0c781b275a614175804de           23        49    36235381   \n",
       "\n",
       "   direction  gross_price  price_reduction  purchase_datetime  \n",
       "0          1       125.40              0.0  2022-10-04T182851  \n",
       "1          1         8.30              0.0  2022-10-04T182851  \n",
       "2          1         1.99              0.0  2022-10-04T182851  \n",
       "3          1         5.10              0.0  2022-10-04T182851  \n",
       "4          1        76.05              0.0  2022-10-04T182851  "
      ]
     },
     "execution_count": 10,
     "metadata": {},
     "output_type": "execute_result"
    }
   ],
   "source": [
    "data.head()"
   ]
  },
  {
   "cell_type": "code",
   "execution_count": 24,
   "metadata": {},
   "outputs": [
    {
     "data": {
      "text/plain": [
       "Index([33700716, 33817091, 48011971, 48020504, 34843564], dtype='int64', name='product_id')"
      ]
     },
     "execution_count": 24,
     "metadata": {},
     "output_type": "execute_result"
    }
   ],
   "source": [
    "top_sold_products_general = data.groupby('product_id').size().sort_values(ascending=False).head().index\n",
    "top_sold_products_general"
   ]
  },
  {
   "cell_type": "markdown",
   "metadata": {},
   "source": [
    "What are the products that their sum of gross price are in the top 5 in all orders?"
   ]
  },
  {
   "cell_type": "code",
   "execution_count": 25,
   "metadata": {},
   "outputs": [
    {
     "data": {
      "text/plain": [
       "Index([48011971, 48020504, 48010340, 48019433, 48500403], dtype='int64', name='product_id')"
      ]
     },
     "execution_count": 25,
     "metadata": {},
     "output_type": "execute_result"
    }
   ],
   "source": [
    "top_sold_high_gross_products_general = data.groupby('product_id')['gross_price'].sum().sort_values(ascending=False).head().index\n",
    "top_sold_high_gross_products_general"
   ]
  },
  {
   "cell_type": "code",
   "execution_count": 27,
   "metadata": {},
   "outputs": [
    {
     "data": {
      "text/plain": [
       "Index([48011971, 48020504], dtype='int64', name='product_id')"
      ]
     },
     "execution_count": 27,
     "metadata": {},
     "output_type": "execute_result"
    }
   ],
   "source": [
    "top_sold_products_general.intersection(top_sold_high_gross_products_general)"
   ]
  },
  {
   "cell_type": "code",
   "execution_count": 33,
   "metadata": {},
   "outputs": [
    {
     "data": {
      "text/plain": [
       "product_id\n",
       "504553      248\n",
       "30033521    210\n",
       "30044455    403\n",
       "30062452    239\n",
       "30072014    244\n",
       "           ... \n",
       "82040488    211\n",
       "82042962    248\n",
       "82042965    221\n",
       "82042968    243\n",
       "82042974    230\n",
       "Length: 2000, dtype: int64"
      ]
     },
     "execution_count": 33,
     "metadata": {},
     "output_type": "execute_result"
    }
   ],
   "source": [
    "data.groupby('product_id').size()"
   ]
  },
  {
   "cell_type": "code",
   "execution_count": 35,
   "metadata": {},
   "outputs": [
    {
     "data": {
      "image/png": "[encoded data removed]",
      "text/plain": [
       "<Figure size 640x480 with 1 Axes>"
      ]
     },
     "metadata": {},
     "output_type": "display_data"
    }
   ],
   "source": [
    "# Calculate the sum of orders for each item\n",
    "item_prices = data.groupby('product_id')['gross_price'].mean()\n",
    "\n",
    "# Calculate the sum of orders for each item\n",
    "item_purchase_count = data.groupby('product_id').size()\n",
    "\n",
    "# Create a DataFrame with the gross price and sum of orders for each item\n",
    "item_data = pd.DataFrame({'Item_id': item_purchase_count.index, 'orders_count': item_purchase_count.values})\n",
    "\n",
    "# join the item_data DataFrame with the item_prices series\n",
    "item_data = item_data.merge(item_prices, left_on='Item_id', right_index=True)\n",
    "\n",
    "# Plot the scatter plot\n",
    "plt.scatter(item_data['gross_price'], item_data['orders_count'])\n",
    "plt.xlabel('Average Gross Price')\n",
    "plt.ylabel('Count of Orders')\n",
    "plt.title('Scatter Plot: Average Gross Price vs Count of Orders')\n",
    "plt.show()"
   ]
  }
 ],
 "metadata": {
  "kernelspec": {
   "display_name": "base",
   "language": "python",
   "name": "python3"
  },
  "language_info": {
   "codemirror_mode": {
    "name": "ipython",
    "version": 3
   },
   "file_extension": ".py",
   "mimetype": "text/x-python",
   "name": "python",
   "nbconvert_exporter": "python",
   "pygments_lexer": "ipython3",
   "version": "3.11.5"
  }
 },
 "nbformat": 4,
 "nbformat_minor": 2
}
