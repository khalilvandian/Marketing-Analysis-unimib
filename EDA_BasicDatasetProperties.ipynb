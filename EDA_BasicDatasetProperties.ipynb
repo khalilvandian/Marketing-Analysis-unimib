{
 "cells": [
  {
   "cell_type": "code",
   "execution_count": 2,
   "metadata": {},
   "outputs": [],
   "source": [
    "import pandas as pd"
   ]
  },
  {
   "cell_type": "markdown",
   "metadata": {},
   "source": [
    "# Load data"
   ]
  },
  {
   "cell_type": "code",
   "execution_count": 10,
   "metadata": {},
   "outputs": [],
   "source": [
    "# Specify the path to the cutomer_cutomer_cutomer_data folder in the parent directory\n",
    "data_folder_path = \"../Data/\""
   ]
  },
  {
   "cell_type": "code",
   "execution_count": 24,
   "metadata": {},
   "outputs": [],
   "source": [
    "# Read the cutomer_cutomer_cutomer_data file using pandas\n",
    "customer_accounts_data = pd.read_csv(data_folder_path + \"tbl_customer_accounts.csv\")\n",
    "adresses_data = pd.read_csv(data_folder_path + \"tbl_addresses.csv\")\n",
    "customer_data = pd.read_csv(data_folder_path + \"tbl_customers.csv\")\n",
    "orders_data = pd.read_csv(data_folder_path + \"tbl_orders.csv\")\n",
    "products_data = pd.read_csv(data_folder_path + \"tbl_products.csv\")\n",
    "customer_reviews_data = pd.read_csv(data_folder_path + \"tbl_customer_reviews.csv\")\n",
    "labelled_reviews_data = pd.read_csv(data_folder_path + \"tbl_labelled_reviews.csv\")"
   ]
  },
  {
   "cell_type": "markdown",
   "metadata": {},
   "source": [
    "# Customers"
   ]
  },
  {
   "cell_type": "code",
   "execution_count": 31,
   "metadata": {},
   "outputs": [
    {
     "data": {
      "text/plain": [
       "(140946, 8)"
      ]
     },
     "execution_count": 31,
     "metadata": {},
     "output_type": "execute_result"
    }
   ],
   "source": [
    "customer_data.shape"
   ]
  },
  {
   "cell_type": "code",
   "execution_count": 27,
   "metadata": {},
   "outputs": [
    {
     "data": {
      "text/html": [
       "<div>\n",
       "<style scoped>\n",
       "    .dataframe tbody tr th:only-of-type {\n",
       "        vertical-align: middle;\n",
       "    }\n",
       "\n",
       "    .dataframe tbody tr th {\n",
       "        vertical-align: top;\n",
       "    }\n",
       "\n",
       "    .dataframe thead th {\n",
       "        text-align: right;\n",
       "    }\n",
       "</style>\n",
       "<table border=\"1\" class=\"dataframe\">\n",
       "  <thead>\n",
       "    <tr style=\"text-align: right;\">\n",
       "      <th></th>\n",
       "      <th>customer_id</th>\n",
       "      <th>address_id</th>\n",
       "      <th>birthdate</th>\n",
       "      <th>gender</th>\n",
       "      <th>job_type</th>\n",
       "      <th>email_provider</th>\n",
       "      <th>flag_phone_provided</th>\n",
       "      <th>flag_privacy</th>\n",
       "    </tr>\n",
       "  </thead>\n",
       "  <tbody>\n",
       "    <tr>\n",
       "      <th>0</th>\n",
       "      <td>891057</td>\n",
       "      <td>863914</td>\n",
       "      <td>2001-10-22</td>\n",
       "      <td>F</td>\n",
       "      <td>NaN</td>\n",
       "      <td>yahoo.it</td>\n",
       "      <td>1.0</td>\n",
       "      <td>True</td>\n",
       "    </tr>\n",
       "    <tr>\n",
       "      <th>1</th>\n",
       "      <td>655484</td>\n",
       "      <td>639856</td>\n",
       "      <td>2001-04-30</td>\n",
       "      <td>M</td>\n",
       "      <td>NaN</td>\n",
       "      <td>yahoo.it</td>\n",
       "      <td>1.0</td>\n",
       "      <td>False</td>\n",
       "    </tr>\n",
       "    <tr>\n",
       "      <th>2</th>\n",
       "      <td>514958</td>\n",
       "      <td>494806</td>\n",
       "      <td>2001-01-01</td>\n",
       "      <td>M</td>\n",
       "      <td>NaN</td>\n",
       "      <td>libero.it</td>\n",
       "      <td>1.0</td>\n",
       "      <td>True</td>\n",
       "    </tr>\n",
       "    <tr>\n",
       "      <th>3</th>\n",
       "      <td>398355</td>\n",
       "      <td>377261</td>\n",
       "      <td>2000-03-09</td>\n",
       "      <td>M</td>\n",
       "      <td>NaN</td>\n",
       "      <td>gmail.com</td>\n",
       "      <td>1.0</td>\n",
       "      <td>True</td>\n",
       "    </tr>\n",
       "    <tr>\n",
       "      <th>4</th>\n",
       "      <td>23808</td>\n",
       "      <td>20227</td>\n",
       "      <td>1999-11-21</td>\n",
       "      <td>F</td>\n",
       "      <td>NaN</td>\n",
       "      <td>virgilio.it</td>\n",
       "      <td>1.0</td>\n",
       "      <td>True</td>\n",
       "    </tr>\n",
       "  </tbody>\n",
       "</table>\n",
       "</div>"
      ],
      "text/plain": [
       "   customer_id  address_id   birthdate gender job_type email_provider  \\\n",
       "0       891057      863914  2001-10-22      F      NaN       yahoo.it   \n",
       "1       655484      639856  2001-04-30      M      NaN       yahoo.it   \n",
       "2       514958      494806  2001-01-01      M      NaN      libero.it   \n",
       "3       398355      377261  2000-03-09      M      NaN      gmail.com   \n",
       "4        23808       20227  1999-11-21      F      NaN    virgilio.it   \n",
       "\n",
       "   flag_phone_provided  flag_privacy  \n",
       "0                  1.0          True  \n",
       "1                  1.0         False  \n",
       "2                  1.0          True  \n",
       "3                  1.0          True  \n",
       "4                  1.0          True  "
      ]
     },
     "execution_count": 27,
     "metadata": {},
     "output_type": "execute_result"
    }
   ],
   "source": [
    "customer_data.head()"
   ]
  },
  {
   "cell_type": "code",
   "execution_count": 26,
   "metadata": {},
   "outputs": [
    {
     "data": {
      "text/html": [
       "<div>\n",
       "<style scoped>\n",
       "    .dataframe tbody tr th:only-of-type {\n",
       "        vertical-align: middle;\n",
       "    }\n",
       "\n",
       "    .dataframe tbody tr th {\n",
       "        vertical-align: top;\n",
       "    }\n",
       "\n",
       "    .dataframe thead th {\n",
       "        text-align: right;\n",
       "    }\n",
       "</style>\n",
       "<table border=\"1\" class=\"dataframe\">\n",
       "  <thead>\n",
       "    <tr style=\"text-align: right;\">\n",
       "      <th></th>\n",
       "      <th>customer_id</th>\n",
       "      <th>address_id</th>\n",
       "      <th>birthdate</th>\n",
       "      <th>gender</th>\n",
       "      <th>job_type</th>\n",
       "      <th>email_provider</th>\n",
       "      <th>flag_phone_provided</th>\n",
       "      <th>flag_privacy</th>\n",
       "    </tr>\n",
       "  </thead>\n",
       "  <tbody>\n",
       "    <tr>\n",
       "      <th>140941</th>\n",
       "      <td>449222</td>\n",
       "      <td>428121</td>\n",
       "      <td>1945-05-30</td>\n",
       "      <td>F</td>\n",
       "      <td>NaN</td>\n",
       "      <td>libero.it</td>\n",
       "      <td>1.0</td>\n",
       "      <td>True</td>\n",
       "    </tr>\n",
       "    <tr>\n",
       "      <th>140942</th>\n",
       "      <td>368113</td>\n",
       "      <td>346970</td>\n",
       "      <td>1943-11-18</td>\n",
       "      <td>F</td>\n",
       "      <td>NaN</td>\n",
       "      <td>yahoo.com</td>\n",
       "      <td>1.0</td>\n",
       "      <td>True</td>\n",
       "    </tr>\n",
       "    <tr>\n",
       "      <th>140943</th>\n",
       "      <td>424451</td>\n",
       "      <td>403292</td>\n",
       "      <td>1943-05-07</td>\n",
       "      <td>F</td>\n",
       "      <td>NaN</td>\n",
       "      <td>gmail.com</td>\n",
       "      <td>1.0</td>\n",
       "      <td>True</td>\n",
       "    </tr>\n",
       "    <tr>\n",
       "      <th>140944</th>\n",
       "      <td>808137</td>\n",
       "      <td>789737</td>\n",
       "      <td>1943-02-13</td>\n",
       "      <td>F</td>\n",
       "      <td>NaN</td>\n",
       "      <td>yahoo.it</td>\n",
       "      <td>1.0</td>\n",
       "      <td>True</td>\n",
       "    </tr>\n",
       "    <tr>\n",
       "      <th>140945</th>\n",
       "      <td>442860</td>\n",
       "      <td>421749</td>\n",
       "      <td>1940-05-18</td>\n",
       "      <td>F</td>\n",
       "      <td>NaN</td>\n",
       "      <td>gmail.com</td>\n",
       "      <td>1.0</td>\n",
       "      <td>True</td>\n",
       "    </tr>\n",
       "  </tbody>\n",
       "</table>\n",
       "</div>"
      ],
      "text/plain": [
       "        customer_id  address_id   birthdate gender job_type email_provider  \\\n",
       "140941       449222      428121  1945-05-30      F      NaN      libero.it   \n",
       "140942       368113      346970  1943-11-18      F      NaN      yahoo.com   \n",
       "140943       424451      403292  1943-05-07      F      NaN      gmail.com   \n",
       "140944       808137      789737  1943-02-13      F      NaN       yahoo.it   \n",
       "140945       442860      421749  1940-05-18      F      NaN      gmail.com   \n",
       "\n",
       "        flag_phone_provided  flag_privacy  \n",
       "140941                  1.0          True  \n",
       "140942                  1.0          True  \n",
       "140943                  1.0          True  \n",
       "140944                  1.0          True  \n",
       "140945                  1.0          True  "
      ]
     },
     "execution_count": 26,
     "metadata": {},
     "output_type": "execute_result"
    }
   ],
   "source": [
    "customer_data.tail()"
   ]
  },
  {
   "cell_type": "code",
   "execution_count": 30,
   "metadata": {},
   "outputs": [
    {
     "name": "stdout",
     "output_type": "stream",
     "text": [
      "<class 'pandas.core.frame.DataFrame'>\n",
      "RangeIndex: 140946 entries, 0 to 140945\n",
      "Data columns (total 8 columns):\n",
      " #   Column               Non-Null Count   Dtype  \n",
      "---  ------               --------------   -----  \n",
      " 0   customer_id          140946 non-null  int64  \n",
      " 1   address_id           140946 non-null  int64  \n",
      " 2   birthdate            140946 non-null  object \n",
      " 3   gender               140946 non-null  object \n",
      " 4   job_type             4295 non-null    object \n",
      " 5   email_provider       139111 non-null  object \n",
      " 6   flag_phone_provided  129675 non-null  float64\n",
      " 7   flag_privacy         140946 non-null  bool   \n",
      "dtypes: bool(1), float64(1), int64(2), object(4)\n",
      "memory usage: 7.7+ MB\n"
     ]
    }
   ],
   "source": [
    "customer_data.info()"
   ]
  },
  {
   "cell_type": "markdown",
   "metadata": {},
   "source": [
    "## Customer ID - Address ID\n",
    "- Some Addresses have been used by up to 3 customers (They are supposedly a family/roommates/residents of the same appartement)\n",
    "- There is a Address Id used 2000 times and is a missing value in Addresses table. => Addresses are not missing in this table but must be checked with the other table to see if there are any truly missing ones.\n",
    "- 2155 customers with Address ids which have no address info in the addresses table"
   ]
  },
  {
   "cell_type": "code",
   "execution_count": 33,
   "metadata": {},
   "outputs": [
    {
     "data": {
      "text/plain": [
       "140946"
      ]
     },
     "execution_count": 33,
     "metadata": {},
     "output_type": "execute_result"
    }
   ],
   "source": [
    "customer_data['customer_id'].unique().shape[0]"
   ]
  },
  {
   "cell_type": "code",
   "execution_count": 39,
   "metadata": {},
   "outputs": [
    {
     "name": "stdout",
     "output_type": "stream",
     "text": [
      "Minimum: 23, Maximum: 934879\n"
     ]
    }
   ],
   "source": [
    "# Calculate minimum value of the 'customer_id' column\n",
    "min_value = customer_data['customer_id'].min()\n",
    "\n",
    "# Calculate maximum value of the 'customer_id' column\n",
    "max_value = customer_data['customer_id'].max()\n",
    "\n",
    "# Optionally, you can print these values\n",
    "print(f\"Minimum: {min_value}, Maximum: {max_value}\")"
   ]
  },
  {
   "cell_type": "markdown",
   "metadata": {},
   "source": [
    "There are addresses with multiple customers"
   ]
  },
  {
   "cell_type": "code",
   "execution_count": 42,
   "metadata": {},
   "outputs": [
    {
     "name": "stdout",
     "output_type": "stream",
     "text": [
      "The number of unique customer_id values is 140946\n",
      "The number of unique address_id values is 138648\n",
      "The number of unique customer rows is 140946\n"
     ]
    }
   ],
   "source": [
    "print(f\"The number of unique customer_id values is {customer_data['customer_id'].unique().shape[0]}\")\n",
    "\n",
    "print(f\"The number of unique address_id values is {customer_data['address_id'].unique().shape[0]}\")\n",
    "\n",
    "print(f\"The number of unique customer rows is {customer_data.drop_duplicates().shape[0]}\")"
   ]
  },
  {
   "cell_type": "markdown",
   "metadata": {},
   "source": [
    "ID 900091 has been repeated 2102 times which is an anomly"
   ]
  },
  {
   "cell_type": "code",
   "execution_count": 46,
   "metadata": {},
   "outputs": [
    {
     "data": {
      "text/plain": [
       "address_id\n",
       "900091    2102\n",
       "745497       3\n",
       "590725       2\n",
       "465404       2\n",
       "432307       2\n",
       "          ... \n",
       "316732       1\n",
       "316711       1\n",
       "316710       1\n",
       "316706       1\n",
       "443267       1\n",
       "Length: 138648, dtype: int64"
      ]
     },
     "execution_count": 46,
     "metadata": {},
     "output_type": "execute_result"
    }
   ],
   "source": [
    "customer_data.groupby('address_id').size().sort_values(ascending=False)"
   ]
  },
  {
   "cell_type": "code",
   "execution_count": 47,
   "metadata": {},
   "outputs": [
    {
     "data": {
      "text/html": [
       "<div>\n",
       "<style scoped>\n",
       "    .dataframe tbody tr th:only-of-type {\n",
       "        vertical-align: middle;\n",
       "    }\n",
       "\n",
       "    .dataframe tbody tr th {\n",
       "        vertical-align: top;\n",
       "    }\n",
       "\n",
       "    .dataframe thead th {\n",
       "        text-align: right;\n",
       "    }\n",
       "</style>\n",
       "<table border=\"1\" class=\"dataframe\">\n",
       "  <thead>\n",
       "    <tr style=\"text-align: right;\">\n",
       "      <th></th>\n",
       "      <th>customer_id</th>\n",
       "      <th>address_id</th>\n",
       "      <th>birthdate</th>\n",
       "      <th>gender</th>\n",
       "      <th>job_type</th>\n",
       "      <th>email_provider</th>\n",
       "      <th>flag_phone_provided</th>\n",
       "      <th>flag_privacy</th>\n",
       "    </tr>\n",
       "  </thead>\n",
       "  <tbody>\n",
       "    <tr>\n",
       "      <th>37</th>\n",
       "      <td>501387</td>\n",
       "      <td>900091</td>\n",
       "      <td>1997-02-25</td>\n",
       "      <td>M</td>\n",
       "      <td>NaN</td>\n",
       "      <td>virgilio.it</td>\n",
       "      <td>1.0</td>\n",
       "      <td>True</td>\n",
       "    </tr>\n",
       "    <tr>\n",
       "      <th>44</th>\n",
       "      <td>869732</td>\n",
       "      <td>900091</td>\n",
       "      <td>1996-12-16</td>\n",
       "      <td>M</td>\n",
       "      <td>NaN</td>\n",
       "      <td>libero.it</td>\n",
       "      <td>1.0</td>\n",
       "      <td>True</td>\n",
       "    </tr>\n",
       "    <tr>\n",
       "      <th>80</th>\n",
       "      <td>865261</td>\n",
       "      <td>900091</td>\n",
       "      <td>1996-02-01</td>\n",
       "      <td>F</td>\n",
       "      <td>NaN</td>\n",
       "      <td>gmail.com</td>\n",
       "      <td>1.0</td>\n",
       "      <td>True</td>\n",
       "    </tr>\n",
       "    <tr>\n",
       "      <th>139</th>\n",
       "      <td>866378</td>\n",
       "      <td>900091</td>\n",
       "      <td>1995-01-07</td>\n",
       "      <td>F</td>\n",
       "      <td>NaN</td>\n",
       "      <td>libero.it</td>\n",
       "      <td>1.0</td>\n",
       "      <td>True</td>\n",
       "    </tr>\n",
       "    <tr>\n",
       "      <th>185</th>\n",
       "      <td>871403</td>\n",
       "      <td>900091</td>\n",
       "      <td>1994-05-12</td>\n",
       "      <td>F</td>\n",
       "      <td>NaN</td>\n",
       "      <td>hotmail.it</td>\n",
       "      <td>1.0</td>\n",
       "      <td>True</td>\n",
       "    </tr>\n",
       "  </tbody>\n",
       "</table>\n",
       "</div>"
      ],
      "text/plain": [
       "     customer_id  address_id   birthdate gender job_type email_provider  \\\n",
       "37        501387      900091  1997-02-25      M      NaN    virgilio.it   \n",
       "44        869732      900091  1996-12-16      M      NaN      libero.it   \n",
       "80        865261      900091  1996-02-01      F      NaN      gmail.com   \n",
       "139       866378      900091  1995-01-07      F      NaN      libero.it   \n",
       "185       871403      900091  1994-05-12      F      NaN     hotmail.it   \n",
       "\n",
       "     flag_phone_provided  flag_privacy  \n",
       "37                   1.0          True  \n",
       "44                   1.0          True  \n",
       "80                   1.0          True  \n",
       "139                  1.0          True  \n",
       "185                  1.0          True  "
      ]
     },
     "execution_count": 47,
     "metadata": {},
     "output_type": "execute_result"
    }
   ],
   "source": [
    "customer_data[customer_data['address_id'] == 900091].head()"
   ]
  },
  {
   "cell_type": "markdown",
   "metadata": {},
   "source": [
    "The value is null and must be considered as a missing value."
   ]
  },
  {
   "cell_type": "code",
   "execution_count": 53,
   "metadata": {},
   "outputs": [
    {
     "data": {
      "text/html": [
       "<div>\n",
       "<style scoped>\n",
       "    .dataframe tbody tr th:only-of-type {\n",
       "        vertical-align: middle;\n",
       "    }\n",
       "\n",
       "    .dataframe tbody tr th {\n",
       "        vertical-align: top;\n",
       "    }\n",
       "\n",
       "    .dataframe thead th {\n",
       "        text-align: right;\n",
       "    }\n",
       "</style>\n",
       "<table border=\"1\" class=\"dataframe\">\n",
       "  <thead>\n",
       "    <tr style=\"text-align: right;\">\n",
       "      <th></th>\n",
       "      <th>address_id</th>\n",
       "      <th>postal_code</th>\n",
       "      <th>district</th>\n",
       "      <th>region</th>\n",
       "    </tr>\n",
       "  </thead>\n",
       "  <tbody>\n",
       "  </tbody>\n",
       "</table>\n",
       "</div>"
      ],
      "text/plain": [
       "Empty DataFrame\n",
       "Columns: [address_id, postal_code, district, region]\n",
       "Index: []"
      ]
     },
     "execution_count": 53,
     "metadata": {},
     "output_type": "execute_result"
    }
   ],
   "source": [
    "adresses_data[adresses_data['address_id'] == 900091]"
   ]
  },
  {
   "cell_type": "markdown",
   "metadata": {},
   "source": [
    "Let's compare addresses and customers to evaluate the addresses and its accuracy"
   ]
  },
  {
   "cell_type": "code",
   "execution_count": 54,
   "metadata": {},
   "outputs": [],
   "source": [
    "customer_addresses_joined_data = customer_data[['customer_id', 'address_id']].merge(adresses_data, on='address_id', how='left')"
   ]
  },
  {
   "cell_type": "markdown",
   "metadata": {},
   "source": [
    "Missing data on addresses\n",
    "There Are 53 address ids that are missing data in the addresses table and thus are not usable."
   ]
  },
  {
   "cell_type": "code",
   "execution_count": 67,
   "metadata": {},
   "outputs": [
    {
     "data": {
      "text/plain": [
       "53"
      ]
     },
     "execution_count": 67,
     "metadata": {},
     "output_type": "execute_result"
    }
   ],
   "source": [
    "customers_missing_address = customer_addresses_joined_data[customer_addresses_joined_data[['postal_code', 'district', 'region']].isnull().all(axis=1)]\n",
    "unique_missing_addresses = customers_missing_address['address_id'].unique()\n",
    "unique_missing_addresses.shape[0]"
   ]
  },
  {
   "cell_type": "code",
   "execution_count": 68,
   "metadata": {},
   "outputs": [
    {
     "data": {
      "text/plain": [
       "2155"
      ]
     },
     "execution_count": 68,
     "metadata": {},
     "output_type": "execute_result"
    }
   ],
   "source": [
    "customer_data['address_id'].isin(unique_missing_addresses).sum()"
   ]
  },
  {
   "cell_type": "markdown",
   "metadata": {},
   "source": [
    "# Birthday"
   ]
  },
  {
   "cell_type": "code",
   "execution_count": null,
   "metadata": {},
   "outputs": [],
   "source": []
  },
  {
   "cell_type": "markdown",
   "metadata": {},
   "source": [
    "# Samples"
   ]
  },
  {
   "cell_type": "code",
   "execution_count": 14,
   "metadata": {},
   "outputs": [
    {
     "data": {
      "text/html": [
       "<div>\n",
       "<style scoped>\n",
       "    .dataframe tbody tr th:only-of-type {\n",
       "        vertical-align: middle;\n",
       "    }\n",
       "\n",
       "    .dataframe tbody tr th {\n",
       "        vertical-align: top;\n",
       "    }\n",
       "\n",
       "    .dataframe thead th {\n",
       "        text-align: right;\n",
       "    }\n",
       "</style>\n",
       "<table border=\"1\" class=\"dataframe\">\n",
       "  <thead>\n",
       "    <tr style=\"text-align: right;\">\n",
       "      <th></th>\n",
       "      <th>customer_id</th>\n",
       "      <th>account_id</th>\n",
       "      <th>favorite_store</th>\n",
       "      <th>loyalty_type</th>\n",
       "      <th>loyatlty_status</th>\n",
       "      <th>activation_date</th>\n",
       "    </tr>\n",
       "  </thead>\n",
       "  <tbody>\n",
       "    <tr>\n",
       "      <th>0</th>\n",
       "      <td>9557</td>\n",
       "      <td>746573</td>\n",
       "      <td>9</td>\n",
       "      <td>premium</td>\n",
       "      <td>1</td>\n",
       "      <td>2023-01-11</td>\n",
       "    </tr>\n",
       "    <tr>\n",
       "      <th>1</th>\n",
       "      <td>743090</td>\n",
       "      <td>776971</td>\n",
       "      <td>2</td>\n",
       "      <td>premium</td>\n",
       "      <td>1</td>\n",
       "      <td>2023-01-30</td>\n",
       "    </tr>\n",
       "    <tr>\n",
       "      <th>2</th>\n",
       "      <td>813156</td>\n",
       "      <td>791681</td>\n",
       "      <td>45</td>\n",
       "      <td>premium</td>\n",
       "      <td>1</td>\n",
       "      <td>2023-02-08</td>\n",
       "    </tr>\n",
       "    <tr>\n",
       "      <th>3</th>\n",
       "      <td>843392</td>\n",
       "      <td>825439</td>\n",
       "      <td>1</td>\n",
       "      <td>premium</td>\n",
       "      <td>1</td>\n",
       "      <td>2023-03-01</td>\n",
       "    </tr>\n",
       "    <tr>\n",
       "      <th>4</th>\n",
       "      <td>20476</td>\n",
       "      <td>815010</td>\n",
       "      <td>16</td>\n",
       "      <td>premium</td>\n",
       "      <td>1</td>\n",
       "      <td>2023-02-23</td>\n",
       "    </tr>\n",
       "    <tr>\n",
       "      <th>5</th>\n",
       "      <td>770374</td>\n",
       "      <td>814968</td>\n",
       "      <td>10</td>\n",
       "      <td>premium</td>\n",
       "      <td>1</td>\n",
       "      <td>2023-02-23</td>\n",
       "    </tr>\n",
       "    <tr>\n",
       "      <th>6</th>\n",
       "      <td>834288</td>\n",
       "      <td>815151</td>\n",
       "      <td>47</td>\n",
       "      <td>premium</td>\n",
       "      <td>1</td>\n",
       "      <td>2023-02-23</td>\n",
       "    </tr>\n",
       "    <tr>\n",
       "      <th>7</th>\n",
       "      <td>803528</td>\n",
       "      <td>780986</td>\n",
       "      <td>20</td>\n",
       "      <td>premium</td>\n",
       "      <td>1</td>\n",
       "      <td>2023-02-02</td>\n",
       "    </tr>\n",
       "    <tr>\n",
       "      <th>8</th>\n",
       "      <td>783266</td>\n",
       "      <td>814734</td>\n",
       "      <td>34</td>\n",
       "      <td>premium</td>\n",
       "      <td>1</td>\n",
       "      <td>2023-02-23</td>\n",
       "    </tr>\n",
       "    <tr>\n",
       "      <th>9</th>\n",
       "      <td>833948</td>\n",
       "      <td>814712</td>\n",
       "      <td>22</td>\n",
       "      <td>premium</td>\n",
       "      <td>1</td>\n",
       "      <td>2023-02-23</td>\n",
       "    </tr>\n",
       "  </tbody>\n",
       "</table>\n",
       "</div>"
      ],
      "text/plain": [
       "   customer_id  account_id  favorite_store loyalty_type  loyatlty_status  \\\n",
       "0         9557      746573               9      premium                1   \n",
       "1       743090      776971               2      premium                1   \n",
       "2       813156      791681              45      premium                1   \n",
       "3       843392      825439               1      premium                1   \n",
       "4        20476      815010              16      premium                1   \n",
       "5       770374      814968              10      premium                1   \n",
       "6       834288      815151              47      premium                1   \n",
       "7       803528      780986              20      premium                1   \n",
       "8       783266      814734              34      premium                1   \n",
       "9       833948      814712              22      premium                1   \n",
       "\n",
       "  activation_date  \n",
       "0      2023-01-11  \n",
       "1      2023-01-30  \n",
       "2      2023-02-08  \n",
       "3      2023-03-01  \n",
       "4      2023-02-23  \n",
       "5      2023-02-23  \n",
       "6      2023-02-23  \n",
       "7      2023-02-02  \n",
       "8      2023-02-23  \n",
       "9      2023-02-23  "
      ]
     },
     "execution_count": 14,
     "metadata": {},
     "output_type": "execute_result"
    }
   ],
   "source": [
    "customer_accounts_data.head(10)"
   ]
  },
  {
   "cell_type": "code",
   "execution_count": 15,
   "metadata": {},
   "outputs": [
    {
     "data": {
      "text/html": [
       "<div>\n",
       "<style scoped>\n",
       "    .dataframe tbody tr th:only-of-type {\n",
       "        vertical-align: middle;\n",
       "    }\n",
       "\n",
       "    .dataframe tbody tr th {\n",
       "        vertical-align: top;\n",
       "    }\n",
       "\n",
       "    .dataframe thead th {\n",
       "        text-align: right;\n",
       "    }\n",
       "</style>\n",
       "<table border=\"1\" class=\"dataframe\">\n",
       "  <thead>\n",
       "    <tr style=\"text-align: right;\">\n",
       "      <th></th>\n",
       "      <th>customer_id</th>\n",
       "      <th>account_id</th>\n",
       "      <th>favorite_store</th>\n",
       "      <th>loyalty_type</th>\n",
       "      <th>loyatlty_status</th>\n",
       "      <th>activation_date</th>\n",
       "    </tr>\n",
       "  </thead>\n",
       "  <tbody>\n",
       "    <tr>\n",
       "      <th>169484</th>\n",
       "      <td>847148</td>\n",
       "      <td>829643</td>\n",
       "      <td>23</td>\n",
       "      <td>standard</td>\n",
       "      <td>1</td>\n",
       "      <td>2023-03-03</td>\n",
       "    </tr>\n",
       "    <tr>\n",
       "      <th>169485</th>\n",
       "      <td>884402</td>\n",
       "      <td>870527</td>\n",
       "      <td>9</td>\n",
       "      <td>standard</td>\n",
       "      <td>1</td>\n",
       "      <td>2023-03-25</td>\n",
       "    </tr>\n",
       "    <tr>\n",
       "      <th>169486</th>\n",
       "      <td>7865</td>\n",
       "      <td>780242</td>\n",
       "      <td>9</td>\n",
       "      <td>business premium</td>\n",
       "      <td>1</td>\n",
       "      <td>2023-02-01</td>\n",
       "    </tr>\n",
       "    <tr>\n",
       "      <th>169487</th>\n",
       "      <td>540836</td>\n",
       "      <td>485279</td>\n",
       "      <td>24</td>\n",
       "      <td>standard</td>\n",
       "      <td>1</td>\n",
       "      <td>2022-08-24</td>\n",
       "    </tr>\n",
       "    <tr>\n",
       "      <th>169488</th>\n",
       "      <td>362172</td>\n",
       "      <td>281597</td>\n",
       "      <td>32</td>\n",
       "      <td>business standard</td>\n",
       "      <td>1</td>\n",
       "      <td>2022-05-09</td>\n",
       "    </tr>\n",
       "    <tr>\n",
       "      <th>169489</th>\n",
       "      <td>828458</td>\n",
       "      <td>895971</td>\n",
       "      <td>47</td>\n",
       "      <td>standard</td>\n",
       "      <td>1</td>\n",
       "      <td>2023-04-09</td>\n",
       "    </tr>\n",
       "    <tr>\n",
       "      <th>169490</th>\n",
       "      <td>575891</td>\n",
       "      <td>525794</td>\n",
       "      <td>1</td>\n",
       "      <td>standard</td>\n",
       "      <td>1</td>\n",
       "      <td>2022-09-14</td>\n",
       "    </tr>\n",
       "    <tr>\n",
       "      <th>169491</th>\n",
       "      <td>316991</td>\n",
       "      <td>231471</td>\n",
       "      <td>14</td>\n",
       "      <td>standard</td>\n",
       "      <td>1</td>\n",
       "      <td>2022-04-15</td>\n",
       "    </tr>\n",
       "    <tr>\n",
       "      <th>169492</th>\n",
       "      <td>403638</td>\n",
       "      <td>329448</td>\n",
       "      <td>1</td>\n",
       "      <td>standard</td>\n",
       "      <td>1</td>\n",
       "      <td>2022-05-31</td>\n",
       "    </tr>\n",
       "    <tr>\n",
       "      <th>169493</th>\n",
       "      <td>856065</td>\n",
       "      <td>839535</td>\n",
       "      <td>13</td>\n",
       "      <td>standard</td>\n",
       "      <td>1</td>\n",
       "      <td>2023-03-09</td>\n",
       "    </tr>\n",
       "  </tbody>\n",
       "</table>\n",
       "</div>"
      ],
      "text/plain": [
       "        customer_id  account_id  favorite_store       loyalty_type  \\\n",
       "169484       847148      829643              23           standard   \n",
       "169485       884402      870527               9           standard   \n",
       "169486         7865      780242               9   business premium   \n",
       "169487       540836      485279              24           standard   \n",
       "169488       362172      281597              32  business standard   \n",
       "169489       828458      895971              47           standard   \n",
       "169490       575891      525794               1           standard   \n",
       "169491       316991      231471              14           standard   \n",
       "169492       403638      329448               1           standard   \n",
       "169493       856065      839535              13           standard   \n",
       "\n",
       "        loyatlty_status activation_date  \n",
       "169484                1      2023-03-03  \n",
       "169485                1      2023-03-25  \n",
       "169486                1      2023-02-01  \n",
       "169487                1      2022-08-24  \n",
       "169488                1      2022-05-09  \n",
       "169489                1      2023-04-09  \n",
       "169490                1      2022-09-14  \n",
       "169491                1      2022-04-15  \n",
       "169492                1      2022-05-31  \n",
       "169493                1      2023-03-09  "
      ]
     },
     "execution_count": 15,
     "metadata": {},
     "output_type": "execute_result"
    }
   ],
   "source": [
    "customer_accounts_data.tail(10)"
   ]
  },
  {
   "cell_type": "markdown",
   "metadata": {},
   "source": [
    "# Size and Range"
   ]
  },
  {
   "cell_type": "code",
   "execution_count": 18,
   "metadata": {},
   "outputs": [
    {
     "data": {
      "text/plain": [
       "(169494, 6)"
      ]
     },
     "execution_count": 18,
     "metadata": {},
     "output_type": "execute_result"
    }
   ],
   "source": [
    "customer_accounts_data.shape"
   ]
  },
  {
   "cell_type": "code",
   "execution_count": 16,
   "metadata": {},
   "outputs": [
    {
     "data": {
      "text/html": [
       "<div>\n",
       "<style scoped>\n",
       "    .dataframe tbody tr th:only-of-type {\n",
       "        vertical-align: middle;\n",
       "    }\n",
       "\n",
       "    .dataframe tbody tr th {\n",
       "        vertical-align: top;\n",
       "    }\n",
       "\n",
       "    .dataframe thead th {\n",
       "        text-align: right;\n",
       "    }\n",
       "</style>\n",
       "<table border=\"1\" class=\"dataframe\">\n",
       "  <thead>\n",
       "    <tr style=\"text-align: right;\">\n",
       "      <th></th>\n",
       "      <th>customer_id</th>\n",
       "      <th>account_id</th>\n",
       "      <th>favorite_store</th>\n",
       "      <th>loyatlty_status</th>\n",
       "    </tr>\n",
       "  </thead>\n",
       "  <tbody>\n",
       "    <tr>\n",
       "      <th>count</th>\n",
       "      <td>169494.000000</td>\n",
       "      <td>169494.000000</td>\n",
       "      <td>169494.000000</td>\n",
       "      <td>169494.000000</td>\n",
       "    </tr>\n",
       "    <tr>\n",
       "      <th>mean</th>\n",
       "      <td>453477.476807</td>\n",
       "      <td>454051.698202</td>\n",
       "      <td>22.794506</td>\n",
       "      <td>0.992153</td>\n",
       "    </tr>\n",
       "    <tr>\n",
       "      <th>std</th>\n",
       "      <td>260804.531519</td>\n",
       "      <td>253823.105754</td>\n",
       "      <td>15.601191</td>\n",
       "      <td>0.088235</td>\n",
       "    </tr>\n",
       "    <tr>\n",
       "      <th>min</th>\n",
       "      <td>16.000000</td>\n",
       "      <td>3.000000</td>\n",
       "      <td>1.000000</td>\n",
       "      <td>0.000000</td>\n",
       "    </tr>\n",
       "    <tr>\n",
       "      <th>25%</th>\n",
       "      <td>233721.500000</td>\n",
       "      <td>246909.250000</td>\n",
       "      <td>7.000000</td>\n",
       "      <td>1.000000</td>\n",
       "    </tr>\n",
       "    <tr>\n",
       "      <th>50%</th>\n",
       "      <td>455237.500000</td>\n",
       "      <td>450119.500000</td>\n",
       "      <td>24.000000</td>\n",
       "      <td>1.000000</td>\n",
       "    </tr>\n",
       "    <tr>\n",
       "      <th>75%</th>\n",
       "      <td>670383.750000</td>\n",
       "      <td>664456.000000</td>\n",
       "      <td>37.000000</td>\n",
       "      <td>1.000000</td>\n",
       "    </tr>\n",
       "    <tr>\n",
       "      <th>max</th>\n",
       "      <td>934892.000000</td>\n",
       "      <td>928121.000000</td>\n",
       "      <td>49.000000</td>\n",
       "      <td>1.000000</td>\n",
       "    </tr>\n",
       "  </tbody>\n",
       "</table>\n",
       "</div>"
      ],
      "text/plain": [
       "         customer_id     account_id  favorite_store  loyatlty_status\n",
       "count  169494.000000  169494.000000   169494.000000    169494.000000\n",
       "mean   453477.476807  454051.698202       22.794506         0.992153\n",
       "std    260804.531519  253823.105754       15.601191         0.088235\n",
       "min        16.000000       3.000000        1.000000         0.000000\n",
       "25%    233721.500000  246909.250000        7.000000         1.000000\n",
       "50%    455237.500000  450119.500000       24.000000         1.000000\n",
       "75%    670383.750000  664456.000000       37.000000         1.000000\n",
       "max    934892.000000  928121.000000       49.000000         1.000000"
      ]
     },
     "execution_count": 16,
     "metadata": {},
     "output_type": "execute_result"
    }
   ],
   "source": [
    "customer_accounts_data.describe()"
   ]
  },
  {
   "cell_type": "markdown",
   "metadata": {},
   "source": [
    "No Missing data in the consumer data"
   ]
  },
  {
   "cell_type": "code",
   "execution_count": 17,
   "metadata": {},
   "outputs": [
    {
     "name": "stdout",
     "output_type": "stream",
     "text": [
      "<class 'pandas.core.frame.DataFrame'>\n",
      "RangeIndex: 169494 entries, 0 to 169493\n",
      "Data columns (total 6 columns):\n",
      " #   Column           Non-Null Count   Dtype \n",
      "---  ------           --------------   ----- \n",
      " 0   customer_id      169494 non-null  int64 \n",
      " 1   account_id       169494 non-null  int64 \n",
      " 2   favorite_store   169494 non-null  int64 \n",
      " 3   loyalty_type     169494 non-null  object\n",
      " 4   loyatlty_status  169494 non-null  int64 \n",
      " 5   activation_date  169494 non-null  object\n",
      "dtypes: int64(4), object(2)\n",
      "memory usage: 7.8+ MB\n"
     ]
    }
   ],
   "source": [
    "customer_accounts_data.info()"
   ]
  },
  {
   "cell_type": "code",
   "execution_count": 21,
   "metadata": {},
   "outputs": [
    {
     "data": {
      "text/plain": [
       "310"
      ]
     },
     "execution_count": 21,
     "metadata": {},
     "output_type": "execute_result"
    }
   ],
   "source": [
    "customer_accounts_data['customer_id'].duplicated().sum()"
   ]
  },
  {
   "cell_type": "code",
   "execution_count": 22,
   "metadata": {},
   "outputs": [
    {
     "data": {
      "text/plain": [
       "0"
      ]
     },
     "execution_count": 22,
     "metadata": {},
     "output_type": "execute_result"
    }
   ],
   "source": [
    "customer_accounts_data[['customer_id', 'account_id']].duplicated().sum()"
   ]
  }
 ],
 "metadata": {
  "kernelspec": {
   "display_name": "base",
   "language": "python",
   "name": "python3"
  },
  "language_info": {
   "codemirror_mode": {
    "name": "ipython",
    "version": 3
   },
   "file_extension": ".py",
   "mimetype": "text/x-python",
   "name": "python",
   "nbconvert_exporter": "python",
   "pygments_lexer": "ipython3",
   "version": "3.11.5"
  }
 },
 "nbformat": 4,
 "nbformat_minor": 2
}
